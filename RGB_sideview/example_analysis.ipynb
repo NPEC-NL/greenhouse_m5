{
 "cells": [
  {
   "cell_type": "markdown",
   "id": "7684eb63",
   "metadata": {},
   "source": [
    "# Feature extraction example for RGB sideview images\n",
    "The first step of image analysis is the segmentation, for this we recommend an instance segmentation algorithm. In the NPEC greenhouse a deeplab v3 algorithm is used to process the images.\n",
    "\n",
    "After the plant is segmented from the image, information about the plant can be extracted like it's height, number of green pixels, width. Or additional deeplearning networks can be used to find fruits, flowers or other objects in the images. In this example will keep things simple and limit it the work to width, height and plant pixels."
   ]
  },
  {
   "cell_type": "code",
   "execution_count": 12,
   "id": "6e0543e4",
   "metadata": {},
   "outputs": [],
   "source": [
    "# Imports\n",
    "import os\n",
    "import cv2\n",
    "import colorsys\n",
    "import math\n",
    "import numpy as np\n",
    "import plotly.express as px\n",
    "import plotly.graph_objs as go\n",
    "from plotly.subplots import make_subplots\n",
    "from sklearn.cluster import KMeans"
   ]
  },
  {
   "cell_type": "code",
   "execution_count": 2,
   "id": "6ff796c7",
   "metadata": {},
   "outputs": [],
   "source": [
    "# Load data\n",
    "foldername = \"example_data\"\n",
    "mask_filename = foldername + os.sep + \"mask.png\"\n",
    "mask_img = cv2.imread(str(mask_filename), -1)\n",
    "mask_img = cv2.rotate(mask_img, cv2.ROTATE_90_CLOCKWISE)\n",
    "\n",
    "masked_filename = foldername + os.sep + \"masked.png\"\n",
    "masked_img = cv2.imread(str(masked_filename), -1)\n",
    "masked_img = cv2.rotate(masked_img, cv2.ROTATE_90_CLOCKWISE)"
   ]
  },
  {
   "cell_type": "markdown",
   "id": "1b645e17",
   "metadata": {},
   "source": [
    "Helper functions"
   ]
  },
  {
   "cell_type": "code",
   "execution_count": null,
   "id": "866b7640",
   "metadata": {},
   "outputs": [],
   "source": [
    "def boundingbox(mask_img, debug = False):\n",
    "    \"\"\"Determine width and height using a bounding box approach\n",
    "    Draw a straigth boundingbox around the contour, as shown here:\n",
    "    https://docs.opencv.org/3.1.0/dd/d49/tutorial_py_contour_features.html\n",
    "    \"\"\"\n",
    "    contours, _ = cv2.findContours(mask_img, cv2.RETR_EXTERNAL, cv2.CHAIN_APPROX_SIMPLE)\n",
    "    x, y, width, height = cv2.boundingRect(contours[0])\n",
    "\n",
    "    if debug:\n",
    "        debug_img = mask_img.copy()\n",
    "        debug_img = cv2.cvtColor(debug_img, cv2.COLOR_GRAY2BGR) \n",
    "        # draw only contour 0, used for the height meassurements\n",
    "        cv2.drawContours(debug_img, contours, 0, (255, 0, 0), 3)\n",
    "        # Draw all contours\n",
    "        # cv2.drawContours(debug_img, contours, -1, (255, 0, 0), 3)\n",
    "        cv2.rectangle(debug_img, (x, y), (x + width, y + height), (0, 255, 0), 2)\n",
    "        return debug_img, (x, y), width, height\n",
    "    return (x, y), width, height\n",
    "\n",
    "def ellipse_fit(mask_img, debug):\n",
    "    \"\"\"Fit an elipse to the first contour, find the minor and major axis\n",
    "    Returns the axis closest to vertical as height and the other as width\n",
    "    \"\"\"\n",
    "    contours, _ = cv2.findContours(mask_img, cv2.RETR_EXTERNAL, cv2.CHAIN_APPROX_SIMPLE)\n",
    "    ellipse = cv2.fitEllipse(contours[0])\n",
    "    width, height = compute_axis(ellipse)\n",
    "    if debug:\n",
    "        return ellipse, width, height\n",
    "    return width, height\n",
    "\n",
    "\n",
    "def compute_axis(ellipse, image=None):\n",
    "    \"\"\"Compute the start & end coordinates of the axis\n",
    "    Called with the ellipse and optional the image to draw the axis on.\n",
    "    see; https://stackoverflow.com/questions/62698756/opencv-calculating-orientation-angle-of-major-and-minor-axis-of-ellipse\"\"\"\n",
    "    (xc, yc), (d1, d2), angle = ellipse\n",
    "    radius = [d1/2, d2/2]\n",
    "    radius.sort(reverse=True)\n",
    "\n",
    "    # Longest axis red, shortest axis blue\n",
    "    colors = [(255, 0, 0), (0, 0, 255)]\n",
    "    angle_dist = {}\n",
    "    for i, d_axis in enumerate(radius):\n",
    "        if angle > 90:\n",
    "            angle = angle - 90\n",
    "        else:\n",
    "            angle = angle + 90\n",
    "        angle_dist[angle] = d_axis * 2\n",
    "        x1 = xc + math.cos(math.radians(angle))*d_axis\n",
    "        y1 = yc + math.sin(math.radians(angle))*d_axis\n",
    "        x2 = xc + math.cos(math.radians(angle+180))*d_axis\n",
    "        y2 = yc + math.sin(math.radians(angle+180))*d_axis\n",
    "        if image is not None:\n",
    "            cv2.line(image, (int(x1), int(y1)), (int(x2), int(y2)), colors[i], 3)\n",
    "    if image is not None:\n",
    "        return image\n",
    "    # Angle of 0 is horizontal, 90 degrees is vertical.\n",
    "    width = angle_dist[min(angle_dist.keys())]\n",
    "    height = angle_dist[max(angle_dist.keys())]\n",
    "    return width, height\n",
    "\n",
    "def resize_image(image, width=None, height=None, inter=cv2.INTER_AREA):\n",
    "    ''' Function to resize an image and keep its original aspect ratio '''\n",
    "    # initialize the dimensions of the image to be resized and grab the image size\n",
    "    dim = None\n",
    "    (h, w) = image.shape[:2]\n",
    "\n",
    "    # if both the width and height are None, then return the original image\n",
    "    if width is None and height is None:\n",
    "        return image\n",
    "    if width is None:\n",
    "        # calculate the ratio of the height and construct the dimensions\n",
    "        r = height / float(h)\n",
    "        dim = (int(w * r), height)\n",
    "    else:\n",
    "        r = width / float(w)\n",
    "        dim = (width, int(h * r))\n",
    "    return cv2.resize(image, dim, interpolation=inter)\n",
    "\n",
    "def add_margin(param, img_shape, margin=50, axis=0):\n",
    "    \"\"\"Add margin to the bounding box coordinate for X or Y axis.\n",
    "    axis=0 for Y (rows), axis=1 for X (columns)\n",
    "    \"\"\"\n",
    "    size = img_shape[axis]\n",
    "    param_min = max(param - margin, 0)\n",
    "    param_max = min(param + margin, size)\n",
    "    return param_min, param_max"
   ]
  },
  {
   "cell_type": "markdown",
   "id": "1330559c",
   "metadata": {},
   "source": [
    "## Shape analysis"
   ]
  },
  {
   "cell_type": "code",
   "execution_count": 4,
   "id": "6067f784",
   "metadata": {},
   "outputs": [],
   "source": [
    "def pixel_count(mask_img):\n",
    "    \"\"\"Return the number of non-zero pixels in the mask\"\"\"\n",
    "    pixel_count = np.count_nonzero(mask_img != 0)\n",
    "    return pixel_count"
   ]
  },
  {
   "cell_type": "code",
   "execution_count": 5,
   "id": "da90337c",
   "metadata": {},
   "outputs": [
    {
     "name": "stdout",
     "output_type": "stream",
     "text": [
      "pixel count: 33351\n"
     ]
    }
   ],
   "source": [
    "pixel_c = pixel_count(mask_img)\n",
    "print(f\"pixel count: {pixel_c}\")"
   ]
  },
  {
   "cell_type": "code",
   "execution_count": 35,
   "id": "4d44a2cd",
   "metadata": {},
   "outputs": [
    {
     "name": "stdout",
     "output_type": "stream",
     "text": [
      "width: 216, height: 444\n",
      "Ellipse width: 168.04, height: 398.48\n"
     ]
    }
   ],
   "source": [
    "debug_img, _, width, height = boundingbox(mask_img, True)\n",
    "print(f\"width: {width}, height: {height}\")\n",
    "\n",
    "ellipse, e_width, e_height = ellipse_fit(mask_img, True)\n",
    "cv2.ellipse(debug_img, ellipse, (0, 255, 0), 3)\n",
    "debug_img = compute_axis(ellipse, debug_img)\n",
    "print(f\"Ellipse width: {round(e_width,2)}, height: {round(e_height,2)}\")"
   ]
  },
  {
   "cell_type": "code",
   "execution_count": 33,
   "id": "d8c26146",
   "metadata": {},
   "outputs": [
    {
     "data": {
      "application/vnd.plotly.v1+json": {
       "config": {
        "plotlyServerURL": "https://plot.ly"
       },
       "data": [
        {
         "hovertemplate": "x: %{x}<br>y: %{y}<br>color: [%{z[0]}, %{z[1]}, %{z[2]}]<extra></extra>",
         "name": "0",
         "source": "data:image/png;base64,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",
         "type": "image",
         "xaxis": "x",
         "yaxis": "y"
        }
       ],
       "layout": {
        "template": {
         "data": {
          "bar": [
           {
            "error_x": {
             "color": "#2a3f5f"
            },
            "error_y": {
             "color": "#2a3f5f"
            },
            "marker": {
             "line": {
              "color": "#E5ECF6",
              "width": 0.5
             },
             "pattern": {
              "fillmode": "overlay",
              "size": 10,
              "solidity": 0.2
             }
            },
            "type": "bar"
           }
          ],
          "barpolar": [
           {
            "marker": {
             "line": {
              "color": "#E5ECF6",
              "width": 0.5
             },
             "pattern": {
              "fillmode": "overlay",
              "size": 10,
              "solidity": 0.2
             }
            },
            "type": "barpolar"
           }
          ],
          "carpet": [
           {
            "aaxis": {
             "endlinecolor": "#2a3f5f",
             "gridcolor": "white",
             "linecolor": "white",
             "minorgridcolor": "white",
             "startlinecolor": "#2a3f5f"
            },
            "baxis": {
             "endlinecolor": "#2a3f5f",
             "gridcolor": "white",
             "linecolor": "white",
             "minorgridcolor": "white",
             "startlinecolor": "#2a3f5f"
            },
            "type": "carpet"
           }
          ],
          "choropleth": [
           {
            "colorbar": {
             "outlinewidth": 0,
             "ticks": ""
            },
            "type": "choropleth"
           }
          ],
          "contour": [
           {
            "colorbar": {
             "outlinewidth": 0,
             "ticks": ""
            },
            "colorscale": [
             [
              0,
              "#0d0887"
             ],
             [
              0.1111111111111111,
              "#46039f"
             ],
             [
              0.2222222222222222,
              "#7201a8"
             ],
             [
              0.3333333333333333,
              "#9c179e"
             ],
             [
              0.4444444444444444,
              "#bd3786"
             ],
             [
              0.5555555555555556,
              "#d8576b"
             ],
             [
              0.6666666666666666,
              "#ed7953"
             ],
             [
              0.7777777777777778,
              "#fb9f3a"
             ],
             [
              0.8888888888888888,
              "#fdca26"
             ],
             [
              1,
              "#f0f921"
             ]
            ],
            "type": "contour"
           }
          ],
          "contourcarpet": [
           {
            "colorbar": {
             "outlinewidth": 0,
             "ticks": ""
            },
            "type": "contourcarpet"
           }
          ],
          "heatmap": [
           {
            "colorbar": {
             "outlinewidth": 0,
             "ticks": ""
            },
            "colorscale": [
             [
              0,
              "#0d0887"
             ],
             [
              0.1111111111111111,
              "#46039f"
             ],
             [
              0.2222222222222222,
              "#7201a8"
             ],
             [
              0.3333333333333333,
              "#9c179e"
             ],
             [
              0.4444444444444444,
              "#bd3786"
             ],
             [
              0.5555555555555556,
              "#d8576b"
             ],
             [
              0.6666666666666666,
              "#ed7953"
             ],
             [
              0.7777777777777778,
              "#fb9f3a"
             ],
             [
              0.8888888888888888,
              "#fdca26"
             ],
             [
              1,
              "#f0f921"
             ]
            ],
            "type": "heatmap"
           }
          ],
          "histogram": [
           {
            "marker": {
             "pattern": {
              "fillmode": "overlay",
              "size": 10,
              "solidity": 0.2
             }
            },
            "type": "histogram"
           }
          ],
          "histogram2d": [
           {
            "colorbar": {
             "outlinewidth": 0,
             "ticks": ""
            },
            "colorscale": [
             [
              0,
              "#0d0887"
             ],
             [
              0.1111111111111111,
              "#46039f"
             ],
             [
              0.2222222222222222,
              "#7201a8"
             ],
             [
              0.3333333333333333,
              "#9c179e"
             ],
             [
              0.4444444444444444,
              "#bd3786"
             ],
             [
              0.5555555555555556,
              "#d8576b"
             ],
             [
              0.6666666666666666,
              "#ed7953"
             ],
             [
              0.7777777777777778,
              "#fb9f3a"
             ],
             [
              0.8888888888888888,
              "#fdca26"
             ],
             [
              1,
              "#f0f921"
             ]
            ],
            "type": "histogram2d"
           }
          ],
          "histogram2dcontour": [
           {
            "colorbar": {
             "outlinewidth": 0,
             "ticks": ""
            },
            "colorscale": [
             [
              0,
              "#0d0887"
             ],
             [
              0.1111111111111111,
              "#46039f"
             ],
             [
              0.2222222222222222,
              "#7201a8"
             ],
             [
              0.3333333333333333,
              "#9c179e"
             ],
             [
              0.4444444444444444,
              "#bd3786"
             ],
             [
              0.5555555555555556,
              "#d8576b"
             ],
             [
              0.6666666666666666,
              "#ed7953"
             ],
             [
              0.7777777777777778,
              "#fb9f3a"
             ],
             [
              0.8888888888888888,
              "#fdca26"
             ],
             [
              1,
              "#f0f921"
             ]
            ],
            "type": "histogram2dcontour"
           }
          ],
          "mesh3d": [
           {
            "colorbar": {
             "outlinewidth": 0,
             "ticks": ""
            },
            "type": "mesh3d"
           }
          ],
          "parcoords": [
           {
            "line": {
             "colorbar": {
              "outlinewidth": 0,
              "ticks": ""
             }
            },
            "type": "parcoords"
           }
          ],
          "pie": [
           {
            "automargin": true,
            "type": "pie"
           }
          ],
          "scatter": [
           {
            "fillpattern": {
             "fillmode": "overlay",
             "size": 10,
             "solidity": 0.2
            },
            "type": "scatter"
           }
          ],
          "scatter3d": [
           {
            "line": {
             "colorbar": {
              "outlinewidth": 0,
              "ticks": ""
             }
            },
            "marker": {
             "colorbar": {
              "outlinewidth": 0,
              "ticks": ""
             }
            },
            "type": "scatter3d"
           }
          ],
          "scattercarpet": [
           {
            "marker": {
             "colorbar": {
              "outlinewidth": 0,
              "ticks": ""
             }
            },
            "type": "scattercarpet"
           }
          ],
          "scattergeo": [
           {
            "marker": {
             "colorbar": {
              "outlinewidth": 0,
              "ticks": ""
             }
            },
            "type": "scattergeo"
           }
          ],
          "scattergl": [
           {
            "marker": {
             "colorbar": {
              "outlinewidth": 0,
              "ticks": ""
             }
            },
            "type": "scattergl"
           }
          ],
          "scattermap": [
           {
            "marker": {
             "colorbar": {
              "outlinewidth": 0,
              "ticks": ""
             }
            },
            "type": "scattermap"
           }
          ],
          "scattermapbox": [
           {
            "marker": {
             "colorbar": {
              "outlinewidth": 0,
              "ticks": ""
             }
            },
            "type": "scattermapbox"
           }
          ],
          "scatterpolar": [
           {
            "marker": {
             "colorbar": {
              "outlinewidth": 0,
              "ticks": ""
             }
            },
            "type": "scatterpolar"
           }
          ],
          "scatterpolargl": [
           {
            "marker": {
             "colorbar": {
              "outlinewidth": 0,
              "ticks": ""
             }
            },
            "type": "scatterpolargl"
           }
          ],
          "scatterternary": [
           {
            "marker": {
             "colorbar": {
              "outlinewidth": 0,
              "ticks": ""
             }
            },
            "type": "scatterternary"
           }
          ],
          "surface": [
           {
            "colorbar": {
             "outlinewidth": 0,
             "ticks": ""
            },
            "colorscale": [
             [
              0,
              "#0d0887"
             ],
             [
              0.1111111111111111,
              "#46039f"
             ],
             [
              0.2222222222222222,
              "#7201a8"
             ],
             [
              0.3333333333333333,
              "#9c179e"
             ],
             [
              0.4444444444444444,
              "#bd3786"
             ],
             [
              0.5555555555555556,
              "#d8576b"
             ],
             [
              0.6666666666666666,
              "#ed7953"
             ],
             [
              0.7777777777777778,
              "#fb9f3a"
             ],
             [
              0.8888888888888888,
              "#fdca26"
             ],
             [
              1,
              "#f0f921"
             ]
            ],
            "type": "surface"
           }
          ],
          "table": [
           {
            "cells": {
             "fill": {
              "color": "#EBF0F8"
             },
             "line": {
              "color": "white"
             }
            },
            "header": {
             "fill": {
              "color": "#C8D4E3"
             },
             "line": {
              "color": "white"
             }
            },
            "type": "table"
           }
          ]
         },
         "layout": {
          "annotationdefaults": {
           "arrowcolor": "#2a3f5f",
           "arrowhead": 0,
           "arrowwidth": 1
          },
          "autotypenumbers": "strict",
          "coloraxis": {
           "colorbar": {
            "outlinewidth": 0,
            "ticks": ""
           }
          },
          "colorscale": {
           "diverging": [
            [
             0,
             "#8e0152"
            ],
            [
             0.1,
             "#c51b7d"
            ],
            [
             0.2,
             "#de77ae"
            ],
            [
             0.3,
             "#f1b6da"
            ],
            [
             0.4,
             "#fde0ef"
            ],
            [
             0.5,
             "#f7f7f7"
            ],
            [
             0.6,
             "#e6f5d0"
            ],
            [
             0.7,
             "#b8e186"
            ],
            [
             0.8,
             "#7fbc41"
            ],
            [
             0.9,
             "#4d9221"
            ],
            [
             1,
             "#276419"
            ]
           ],
           "sequential": [
            [
             0,
             "#0d0887"
            ],
            [
             0.1111111111111111,
             "#46039f"
            ],
            [
             0.2222222222222222,
             "#7201a8"
            ],
            [
             0.3333333333333333,
             "#9c179e"
            ],
            [
             0.4444444444444444,
             "#bd3786"
            ],
            [
             0.5555555555555556,
             "#d8576b"
            ],
            [
             0.6666666666666666,
             "#ed7953"
            ],
            [
             0.7777777777777778,
             "#fb9f3a"
            ],
            [
             0.8888888888888888,
             "#fdca26"
            ],
            [
             1,
             "#f0f921"
            ]
           ],
           "sequentialminus": [
            [
             0,
             "#0d0887"
            ],
            [
             0.1111111111111111,
             "#46039f"
            ],
            [
             0.2222222222222222,
             "#7201a8"
            ],
            [
             0.3333333333333333,
             "#9c179e"
            ],
            [
             0.4444444444444444,
             "#bd3786"
            ],
            [
             0.5555555555555556,
             "#d8576b"
            ],
            [
             0.6666666666666666,
             "#ed7953"
            ],
            [
             0.7777777777777778,
             "#fb9f3a"
            ],
            [
             0.8888888888888888,
             "#fdca26"
            ],
            [
             1,
             "#f0f921"
            ]
           ]
          },
          "colorway": [
           "#636efa",
           "#EF553B",
           "#00cc96",
           "#ab63fa",
           "#FFA15A",
           "#19d3f3",
           "#FF6692",
           "#B6E880",
           "#FF97FF",
           "#FECB52"
          ],
          "font": {
           "color": "#2a3f5f"
          },
          "geo": {
           "bgcolor": "white",
           "lakecolor": "white",
           "landcolor": "#E5ECF6",
           "showlakes": true,
           "showland": true,
           "subunitcolor": "white"
          },
          "hoverlabel": {
           "align": "left"
          },
          "hovermode": "closest",
          "mapbox": {
           "style": "light"
          },
          "paper_bgcolor": "white",
          "plot_bgcolor": "#E5ECF6",
          "polar": {
           "angularaxis": {
            "gridcolor": "white",
            "linecolor": "white",
            "ticks": ""
           },
           "bgcolor": "#E5ECF6",
           "radialaxis": {
            "gridcolor": "white",
            "linecolor": "white",
            "ticks": ""
           }
          },
          "scene": {
           "xaxis": {
            "backgroundcolor": "#E5ECF6",
            "gridcolor": "white",
            "gridwidth": 2,
            "linecolor": "white",
            "showbackground": true,
            "ticks": "",
            "zerolinecolor": "white"
           },
           "yaxis": {
            "backgroundcolor": "#E5ECF6",
            "gridcolor": "white",
            "gridwidth": 2,
            "linecolor": "white",
            "showbackground": true,
            "ticks": "",
            "zerolinecolor": "white"
           },
           "zaxis": {
            "backgroundcolor": "#E5ECF6",
            "gridcolor": "white",
            "gridwidth": 2,
            "linecolor": "white",
            "showbackground": true,
            "ticks": "",
            "zerolinecolor": "white"
           }
          },
          "shapedefaults": {
           "line": {
            "color": "#2a3f5f"
           }
          },
          "ternary": {
           "aaxis": {
            "gridcolor": "white",
            "linecolor": "white",
            "ticks": ""
           },
           "baxis": {
            "gridcolor": "white",
            "linecolor": "white",
            "ticks": ""
           },
           "bgcolor": "#E5ECF6",
           "caxis": {
            "gridcolor": "white",
            "linecolor": "white",
            "ticks": ""
           }
          },
          "title": {
           "x": 0.05
          },
          "xaxis": {
           "automargin": true,
           "gridcolor": "white",
           "linecolor": "white",
           "ticks": "",
           "title": {
            "standoff": 15
           },
           "zerolinecolor": "white",
           "zerolinewidth": 2
          },
          "yaxis": {
           "automargin": true,
           "gridcolor": "white",
           "linecolor": "white",
           "ticks": "",
           "title": {
            "standoff": 15
           },
           "zerolinecolor": "white",
           "zerolinewidth": 2
          }
         }
        },
        "title": {
         "text": "Debug Preview (Cropped with Margin)"
        },
        "xaxis": {
         "anchor": "y",
         "domain": [
          0,
          1
         ],
         "showticklabels": false
        },
        "yaxis": {
         "anchor": "x",
         "domain": [
          0,
          1
         ],
         "showticklabels": false
        }
       }
      }
     },
     "metadata": {},
     "output_type": "display_data"
    }
   ],
   "source": [
    "# Example: Crop debug_img to bounding box with margin, resize, and display inline\n",
    "margin = 50\n",
    "(x, y), width, height = boundingbox(mask_img)\n",
    "y_min, y_max = add_margin(y, debug_img.shape, margin, axis=0)\n",
    "x_min, x_max = add_margin(x, debug_img.shape, margin, axis=1)\n",
    "x_max = max(x_max, debug_img.shape[1])\n",
    "cropped_img = debug_img[y_min:y+height+margin, x_min:x+width+margin]\n",
    "\n",
    "if cropped_img.shape[0] == 0 or cropped_img.shape[1] == 0:\n",
    "    print(\"Warning: Cropped image has zero height or width. Check the mask and bounding box.\")\n",
    "else:\n",
    "    cropped_img = resize_image(cropped_img, height=700)\n",
    "    fig = px.imshow(cv2.cvtColor(cropped_img, cv2.COLOR_BGR2RGB), title='Debug Preview (Cropped with Margin)')\n",
    "    fig.update_xaxes(showticklabels=False)\n",
    "    fig.update_yaxes(showticklabels=False)\n",
    "    fig.show()"
   ]
  },
  {
   "cell_type": "markdown",
   "id": "ade1cb6b",
   "metadata": {},
   "source": [
    "## Color analysis\n",
    "Segmentation is never perfect which explains the blue clusters. The other clusters and the number of pixels of pixels/cluster might in some cases contain information about the plants health."
   ]
  },
  {
   "cell_type": "code",
   "execution_count": 7,
   "id": "2e752721",
   "metadata": {},
   "outputs": [],
   "source": [
    "def color_histogram(image, mask, hsv = False, n_clusters = 51):\n",
    "    \"\"\" compute the counts per color in the image, with an option to select the number of return values\n",
    "        Bins are used to group the colors\n",
    "        MiniBatchKMeans sampled the background to often, instead the image is resized and fed into normal kmeans\n",
    "        \"\"\"\n",
    "    if hsv:\n",
    "        image = cv2.cvtColor(image, cv2.COLOR_BGR2HSV)\n",
    "    \n",
    "    # use boundingbox to only analyse the part of the image that contain plant\n",
    "    (x, y), width, height = boundingbox(mask)\n",
    "    plant_img = image[y:y+height, x:x+width, :]\n",
    "    # apply k-means using the specified number of clusters and\n",
    "    # then create the quantized image based on the predictions\n",
    "    # Mini batch is used instead of normal kmeans to lower the computation time\n",
    "    plant_img = plant_img.reshape((plant_img.shape[0] * plant_img.shape[1], 3))\n",
    "    kmean = KMeans(n_clusters = n_clusters)\n",
    "    labels = kmean.fit_predict(plant_img)\n",
    "    clusters = kmean.cluster_centers_.astype(\"uint8\")\n",
    "    # Remove background cluster\n",
    "    return clusters[clusters != [0, 0, 0]].reshape(n_clusters-1, 3)\n",
    "\n",
    "def sort_by_hue(clusters):\n",
    "    # Prepare data for plotting, sorted by hue (rainbow order) with hover info\n",
    "\n",
    "    rgb_norm = clusters / 255.0\n",
    "    hsv = np.array([colorsys.rgb_to_hsv(*rgb) for rgb in rgb_norm])\n",
    "    idx = np.argsort(hsv[:,0])\n",
    "    return clusters[idx]"
   ]
  },
  {
   "cell_type": "code",
   "execution_count": 9,
   "id": "1d3737bc",
   "metadata": {},
   "outputs": [],
   "source": [
    "clusters = color_histogram(masked_img, mask_img)\n",
    "hsv_clusters = color_histogram(masked_img, mask_img, True)"
   ]
  },
  {
   "cell_type": "code",
   "execution_count": 10,
   "id": "91903cb4",
   "metadata": {},
   "outputs": [
    {
     "data": {
      "application/vnd.plotly.v1+json": {
       "config": {
        "plotlyServerURL": "https://plot.ly"
       },
       "data": [
        {
         "hoverinfo": "text",
         "hovertext": [
          "RGB: (90, 70, 60)",
          "RGB: (80, 55, 38)",
          "RGB: (95, 66, 41)",
          "RGB: (95, 89, 77)",
          "RGB: (102, 95, 49)",
          "RGB: (74, 74, 47)",
          "RGB: (123, 130, 64)",
          "RGB: (102, 111, 84)",
          "RGB: (137, 159, 105)",
          "RGB: (75, 83, 65)",
          "RGB: (114, 131, 106)",
          "RGB: (78, 96, 77)",
          "RGB: (53, 64, 54)",
          "RGB: (83, 104, 86)",
          "RGB: (126, 149, 132)",
          "RGB: (147, 184, 158)",
          "RGB: (136, 164, 145)",
          "RGB: (90, 116, 99)",
          "RGB: (110, 147, 124)",
          "RGB: (57, 77, 66)",
          "RGB: (63, 89, 75)",
          "RGB: (67, 101, 83)",
          "RGB: (162, 212, 186)",
          "RGB: (93, 132, 112)",
          "RGB: (72, 113, 94)",
          "RGB: (176, 232, 209)",
          "RGB: (73, 127, 107)",
          "RGB: (137, 196, 175)",
          "RGB: (123, 178, 159)",
          "RGB: (112, 159, 144)",
          "RGB: (85, 149, 131)",
          "RGB: (141, 214, 197)",
          "RGB: (105, 132, 133)",
          "RGB: (92, 163, 166)",
          "RGB: (79, 126, 129)",
          "RGB: (141, 247, 254)",
          "RGB: (123, 179, 190)",
          "RGB: (135, 222, 243)",
          "RGB: (62, 92, 101)",
          "RGB: (74, 105, 117)",
          "RGB: (118, 191, 229)",
          "RGB: (112, 141, 165)",
          "RGB: (101, 109, 118)",
          "RGB: (91, 115, 152)",
          "RGB: (105, 140, 204)",
          "RGB: (85, 114, 182)",
          "RGB: (73, 82, 143)",
          "RGB: (92, 88, 103)",
          "RGB: (85, 69, 84)",
          "RGB: (40, 38, 39)"
         ],
         "marker": {
          "color": [
           "rgb(90,70,60)",
           "rgb(80,55,38)",
           "rgb(95,66,41)",
           "rgb(95,89,77)",
           "rgb(102,95,49)",
           "rgb(74,74,47)",
           "rgb(123,130,64)",
           "rgb(102,111,84)",
           "rgb(137,159,105)",
           "rgb(75,83,65)",
           "rgb(114,131,106)",
           "rgb(78,96,77)",
           "rgb(53,64,54)",
           "rgb(83,104,86)",
           "rgb(126,149,132)",
           "rgb(147,184,158)",
           "rgb(136,164,145)",
           "rgb(90,116,99)",
           "rgb(110,147,124)",
           "rgb(57,77,66)",
           "rgb(63,89,75)",
           "rgb(67,101,83)",
           "rgb(162,212,186)",
           "rgb(93,132,112)",
           "rgb(72,113,94)",
           "rgb(176,232,209)",
           "rgb(73,127,107)",
           "rgb(137,196,175)",
           "rgb(123,178,159)",
           "rgb(112,159,144)",
           "rgb(85,149,131)",
           "rgb(141,214,197)",
           "rgb(105,132,133)",
           "rgb(92,163,166)",
           "rgb(79,126,129)",
           "rgb(141,247,254)",
           "rgb(123,179,190)",
           "rgb(135,222,243)",
           "rgb(62,92,101)",
           "rgb(74,105,117)",
           "rgb(118,191,229)",
           "rgb(112,141,165)",
           "rgb(101,109,118)",
           "rgb(91,115,152)",
           "rgb(105,140,204)",
           "rgb(85,114,182)",
           "rgb(73,82,143)",
           "rgb(92,88,103)",
           "rgb(85,69,84)",
           "rgb(40,38,39)"
          ]
         },
         "showlegend": false,
         "type": "bar",
         "x": [
          0,
          1,
          2,
          3,
          4,
          5,
          6,
          7,
          8,
          9,
          10,
          11,
          12,
          13,
          14,
          15,
          16,
          17,
          18,
          19,
          20,
          21,
          22,
          23,
          24,
          25,
          26,
          27,
          28,
          29,
          30,
          31,
          32,
          33,
          34,
          35,
          36,
          37,
          38,
          39,
          40,
          41,
          42,
          43,
          44,
          45,
          46,
          47,
          48,
          49
         ],
         "xaxis": "x",
         "y": [
          1,
          1,
          1,
          1,
          1,
          1,
          1,
          1,
          1,
          1,
          1,
          1,
          1,
          1,
          1,
          1,
          1,
          1,
          1,
          1,
          1,
          1,
          1,
          1,
          1,
          1,
          1,
          1,
          1,
          1,
          1,
          1,
          1,
          1,
          1,
          1,
          1,
          1,
          1,
          1,
          1,
          1,
          1,
          1,
          1,
          1,
          1,
          1,
          1,
          1
         ],
         "yaxis": "y"
        },
        {
         "hoverinfo": "text",
         "hovertext": [
          "RGB: (86, 91, 78)",
          "RGB: (103, 116, 87)",
          "RGB: (102, 144, 88)",
          "RGB: (101, 169, 104)",
          "RGB: (31, 113, 103)",
          "RGB: (88, 125, 122)",
          "RGB: (24, 134, 131)",
          "RGB: (43, 91, 90)",
          "RGB: (38, 107, 125)",
          "RGB: (22, 84, 101)",
          "RGB: (11, 145, 206)",
          "RGB: (38, 115, 153)",
          "RGB: (16, 121, 178)",
          "RGB: (45, 89, 114)",
          "RGB: (47, 67, 79)",
          "RGB: (19, 43, 58)",
          "RGB: (14, 97, 151)",
          "RGB: (16, 67, 122)",
          "RGB: (39, 85, 139)",
          "RGB: (23, 110, 225)",
          "RGB: (50, 71, 101)",
          "RGB: (26, 115, 251)",
          "RGB: (35, 90, 198)",
          "RGB: (39, 83, 170)",
          "RGB: (23, 64, 158)",
          "RGB: (45, 66, 121)",
          "RGB: (41, 71, 193)",
          "RGB: (47, 60, 149)",
          "RGB: (22, 31, 101)",
          "RGB: (44, 63, 222)",
          "RGB: (75, 82, 150)",
          "RGB: (33, 39, 131)",
          "RGB: (52, 54, 98)",
          "RGB: (47, 52, 181)",
          "RGB: (78, 79, 111)",
          "RGB: (56, 49, 118)",
          "RGB: (53, 38, 154)",
          "RGB: (71, 56, 95)",
          "RGB: (76, 37, 135)",
          "RGB: (61, 35, 96)",
          "RGB: (62, 43, 72)",
          "RGB: (94, 27, 90)",
          "RGB: (115, 49, 95)",
          "RGB: (88, 57, 75)",
          "RGB: (171, 54, 118)",
          "RGB: (152, 27, 94)",
          "RGB: (174, 112, 141)",
          "RGB: (109, 84, 91)",
          "RGB: (147, 78, 93)",
          "RGB: (135, 36, 42)"
         ],
         "marker": {
          "color": [
           "rgb(86,91,78)",
           "rgb(103,116,87)",
           "rgb(102,144,88)",
           "rgb(101,169,104)",
           "rgb(31,113,103)",
           "rgb(88,125,122)",
           "rgb(24,134,131)",
           "rgb(43,91,90)",
           "rgb(38,107,125)",
           "rgb(22,84,101)",
           "rgb(11,145,206)",
           "rgb(38,115,153)",
           "rgb(16,121,178)",
           "rgb(45,89,114)",
           "rgb(47,67,79)",
           "rgb(19,43,58)",
           "rgb(14,97,151)",
           "rgb(16,67,122)",
           "rgb(39,85,139)",
           "rgb(23,110,225)",
           "rgb(50,71,101)",
           "rgb(26,115,251)",
           "rgb(35,90,198)",
           "rgb(39,83,170)",
           "rgb(23,64,158)",
           "rgb(45,66,121)",
           "rgb(41,71,193)",
           "rgb(47,60,149)",
           "rgb(22,31,101)",
           "rgb(44,63,222)",
           "rgb(75,82,150)",
           "rgb(33,39,131)",
           "rgb(52,54,98)",
           "rgb(47,52,181)",
           "rgb(78,79,111)",
           "rgb(56,49,118)",
           "rgb(53,38,154)",
           "rgb(71,56,95)",
           "rgb(76,37,135)",
           "rgb(61,35,96)",
           "rgb(62,43,72)",
           "rgb(94,27,90)",
           "rgb(115,49,95)",
           "rgb(88,57,75)",
           "rgb(171,54,118)",
           "rgb(152,27,94)",
           "rgb(174,112,141)",
           "rgb(109,84,91)",
           "rgb(147,78,93)",
           "rgb(135,36,42)"
          ]
         },
         "showlegend": false,
         "type": "bar",
         "x": [
          0,
          1,
          2,
          3,
          4,
          5,
          6,
          7,
          8,
          9,
          10,
          11,
          12,
          13,
          14,
          15,
          16,
          17,
          18,
          19,
          20,
          21,
          22,
          23,
          24,
          25,
          26,
          27,
          28,
          29,
          30,
          31,
          32,
          33,
          34,
          35,
          36,
          37,
          38,
          39,
          40,
          41,
          42,
          43,
          44,
          45,
          46,
          47,
          48,
          49
         ],
         "xaxis": "x2",
         "y": [
          1,
          1,
          1,
          1,
          1,
          1,
          1,
          1,
          1,
          1,
          1,
          1,
          1,
          1,
          1,
          1,
          1,
          1,
          1,
          1,
          1,
          1,
          1,
          1,
          1,
          1,
          1,
          1,
          1,
          1,
          1,
          1,
          1,
          1,
          1,
          1,
          1,
          1,
          1,
          1,
          1,
          1,
          1,
          1,
          1,
          1,
          1,
          1,
          1,
          1
         ],
         "yaxis": "y2"
        }
       ],
       "layout": {
        "annotations": [
         {
          "font": {
           "size": 16
          },
          "showarrow": false,
          "text": "RGB Clusters (Rainbow Order)",
          "x": 0.5,
          "xanchor": "center",
          "xref": "paper",
          "y": 1,
          "yanchor": "bottom",
          "yref": "paper"
         },
         {
          "font": {
           "size": 16
          },
          "showarrow": false,
          "text": "HSV Clusters (Rainbow Order)",
          "x": 0.5,
          "xanchor": "center",
          "xref": "paper",
          "y": 0.375,
          "yanchor": "bottom",
          "yref": "paper"
         }
        ],
        "height": 400,
        "template": {
         "data": {
          "bar": [
           {
            "error_x": {
             "color": "#2a3f5f"
            },
            "error_y": {
             "color": "#2a3f5f"
            },
            "marker": {
             "line": {
              "color": "#E5ECF6",
              "width": 0.5
             },
             "pattern": {
              "fillmode": "overlay",
              "size": 10,
              "solidity": 0.2
             }
            },
            "type": "bar"
           }
          ],
          "barpolar": [
           {
            "marker": {
             "line": {
              "color": "#E5ECF6",
              "width": 0.5
             },
             "pattern": {
              "fillmode": "overlay",
              "size": 10,
              "solidity": 0.2
             }
            },
            "type": "barpolar"
           }
          ],
          "carpet": [
           {
            "aaxis": {
             "endlinecolor": "#2a3f5f",
             "gridcolor": "white",
             "linecolor": "white",
             "minorgridcolor": "white",
             "startlinecolor": "#2a3f5f"
            },
            "baxis": {
             "endlinecolor": "#2a3f5f",
             "gridcolor": "white",
             "linecolor": "white",
             "minorgridcolor": "white",
             "startlinecolor": "#2a3f5f"
            },
            "type": "carpet"
           }
          ],
          "choropleth": [
           {
            "colorbar": {
             "outlinewidth": 0,
             "ticks": ""
            },
            "type": "choropleth"
           }
          ],
          "contour": [
           {
            "colorbar": {
             "outlinewidth": 0,
             "ticks": ""
            },
            "colorscale": [
             [
              0,
              "#0d0887"
             ],
             [
              0.1111111111111111,
              "#46039f"
             ],
             [
              0.2222222222222222,
              "#7201a8"
             ],
             [
              0.3333333333333333,
              "#9c179e"
             ],
             [
              0.4444444444444444,
              "#bd3786"
             ],
             [
              0.5555555555555556,
              "#d8576b"
             ],
             [
              0.6666666666666666,
              "#ed7953"
             ],
             [
              0.7777777777777778,
              "#fb9f3a"
             ],
             [
              0.8888888888888888,
              "#fdca26"
             ],
             [
              1,
              "#f0f921"
             ]
            ],
            "type": "contour"
           }
          ],
          "contourcarpet": [
           {
            "colorbar": {
             "outlinewidth": 0,
             "ticks": ""
            },
            "type": "contourcarpet"
           }
          ],
          "heatmap": [
           {
            "colorbar": {
             "outlinewidth": 0,
             "ticks": ""
            },
            "colorscale": [
             [
              0,
              "#0d0887"
             ],
             [
              0.1111111111111111,
              "#46039f"
             ],
             [
              0.2222222222222222,
              "#7201a8"
             ],
             [
              0.3333333333333333,
              "#9c179e"
             ],
             [
              0.4444444444444444,
              "#bd3786"
             ],
             [
              0.5555555555555556,
              "#d8576b"
             ],
             [
              0.6666666666666666,
              "#ed7953"
             ],
             [
              0.7777777777777778,
              "#fb9f3a"
             ],
             [
              0.8888888888888888,
              "#fdca26"
             ],
             [
              1,
              "#f0f921"
             ]
            ],
            "type": "heatmap"
           }
          ],
          "histogram": [
           {
            "marker": {
             "pattern": {
              "fillmode": "overlay",
              "size": 10,
              "solidity": 0.2
             }
            },
            "type": "histogram"
           }
          ],
          "histogram2d": [
           {
            "colorbar": {
             "outlinewidth": 0,
             "ticks": ""
            },
            "colorscale": [
             [
              0,
              "#0d0887"
             ],
             [
              0.1111111111111111,
              "#46039f"
             ],
             [
              0.2222222222222222,
              "#7201a8"
             ],
             [
              0.3333333333333333,
              "#9c179e"
             ],
             [
              0.4444444444444444,
              "#bd3786"
             ],
             [
              0.5555555555555556,
              "#d8576b"
             ],
             [
              0.6666666666666666,
              "#ed7953"
             ],
             [
              0.7777777777777778,
              "#fb9f3a"
             ],
             [
              0.8888888888888888,
              "#fdca26"
             ],
             [
              1,
              "#f0f921"
             ]
            ],
            "type": "histogram2d"
           }
          ],
          "histogram2dcontour": [
           {
            "colorbar": {
             "outlinewidth": 0,
             "ticks": ""
            },
            "colorscale": [
             [
              0,
              "#0d0887"
             ],
             [
              0.1111111111111111,
              "#46039f"
             ],
             [
              0.2222222222222222,
              "#7201a8"
             ],
             [
              0.3333333333333333,
              "#9c179e"
             ],
             [
              0.4444444444444444,
              "#bd3786"
             ],
             [
              0.5555555555555556,
              "#d8576b"
             ],
             [
              0.6666666666666666,
              "#ed7953"
             ],
             [
              0.7777777777777778,
              "#fb9f3a"
             ],
             [
              0.8888888888888888,
              "#fdca26"
             ],
             [
              1,
              "#f0f921"
             ]
            ],
            "type": "histogram2dcontour"
           }
          ],
          "mesh3d": [
           {
            "colorbar": {
             "outlinewidth": 0,
             "ticks": ""
            },
            "type": "mesh3d"
           }
          ],
          "parcoords": [
           {
            "line": {
             "colorbar": {
              "outlinewidth": 0,
              "ticks": ""
             }
            },
            "type": "parcoords"
           }
          ],
          "pie": [
           {
            "automargin": true,
            "type": "pie"
           }
          ],
          "scatter": [
           {
            "fillpattern": {
             "fillmode": "overlay",
             "size": 10,
             "solidity": 0.2
            },
            "type": "scatter"
           }
          ],
          "scatter3d": [
           {
            "line": {
             "colorbar": {
              "outlinewidth": 0,
              "ticks": ""
             }
            },
            "marker": {
             "colorbar": {
              "outlinewidth": 0,
              "ticks": ""
             }
            },
            "type": "scatter3d"
           }
          ],
          "scattercarpet": [
           {
            "marker": {
             "colorbar": {
              "outlinewidth": 0,
              "ticks": ""
             }
            },
            "type": "scattercarpet"
           }
          ],
          "scattergeo": [
           {
            "marker": {
             "colorbar": {
              "outlinewidth": 0,
              "ticks": ""
             }
            },
            "type": "scattergeo"
           }
          ],
          "scattergl": [
           {
            "marker": {
             "colorbar": {
              "outlinewidth": 0,
              "ticks": ""
             }
            },
            "type": "scattergl"
           }
          ],
          "scattermap": [
           {
            "marker": {
             "colorbar": {
              "outlinewidth": 0,
              "ticks": ""
             }
            },
            "type": "scattermap"
           }
          ],
          "scattermapbox": [
           {
            "marker": {
             "colorbar": {
              "outlinewidth": 0,
              "ticks": ""
             }
            },
            "type": "scattermapbox"
           }
          ],
          "scatterpolar": [
           {
            "marker": {
             "colorbar": {
              "outlinewidth": 0,
              "ticks": ""
             }
            },
            "type": "scatterpolar"
           }
          ],
          "scatterpolargl": [
           {
            "marker": {
             "colorbar": {
              "outlinewidth": 0,
              "ticks": ""
             }
            },
            "type": "scatterpolargl"
           }
          ],
          "scatterternary": [
           {
            "marker": {
             "colorbar": {
              "outlinewidth": 0,
              "ticks": ""
             }
            },
            "type": "scatterternary"
           }
          ],
          "surface": [
           {
            "colorbar": {
             "outlinewidth": 0,
             "ticks": ""
            },
            "colorscale": [
             [
              0,
              "#0d0887"
             ],
             [
              0.1111111111111111,
              "#46039f"
             ],
             [
              0.2222222222222222,
              "#7201a8"
             ],
             [
              0.3333333333333333,
              "#9c179e"
             ],
             [
              0.4444444444444444,
              "#bd3786"
             ],
             [
              0.5555555555555556,
              "#d8576b"
             ],
             [
              0.6666666666666666,
              "#ed7953"
             ],
             [
              0.7777777777777778,
              "#fb9f3a"
             ],
             [
              0.8888888888888888,
              "#fdca26"
             ],
             [
              1,
              "#f0f921"
             ]
            ],
            "type": "surface"
           }
          ],
          "table": [
           {
            "cells": {
             "fill": {
              "color": "#EBF0F8"
             },
             "line": {
              "color": "white"
             }
            },
            "header": {
             "fill": {
              "color": "#C8D4E3"
             },
             "line": {
              "color": "white"
             }
            },
            "type": "table"
           }
          ]
         },
         "layout": {
          "annotationdefaults": {
           "arrowcolor": "#2a3f5f",
           "arrowhead": 0,
           "arrowwidth": 1
          },
          "autotypenumbers": "strict",
          "coloraxis": {
           "colorbar": {
            "outlinewidth": 0,
            "ticks": ""
           }
          },
          "colorscale": {
           "diverging": [
            [
             0,
             "#8e0152"
            ],
            [
             0.1,
             "#c51b7d"
            ],
            [
             0.2,
             "#de77ae"
            ],
            [
             0.3,
             "#f1b6da"
            ],
            [
             0.4,
             "#fde0ef"
            ],
            [
             0.5,
             "#f7f7f7"
            ],
            [
             0.6,
             "#e6f5d0"
            ],
            [
             0.7,
             "#b8e186"
            ],
            [
             0.8,
             "#7fbc41"
            ],
            [
             0.9,
             "#4d9221"
            ],
            [
             1,
             "#276419"
            ]
           ],
           "sequential": [
            [
             0,
             "#0d0887"
            ],
            [
             0.1111111111111111,
             "#46039f"
            ],
            [
             0.2222222222222222,
             "#7201a8"
            ],
            [
             0.3333333333333333,
             "#9c179e"
            ],
            [
             0.4444444444444444,
             "#bd3786"
            ],
            [
             0.5555555555555556,
             "#d8576b"
            ],
            [
             0.6666666666666666,
             "#ed7953"
            ],
            [
             0.7777777777777778,
             "#fb9f3a"
            ],
            [
             0.8888888888888888,
             "#fdca26"
            ],
            [
             1,
             "#f0f921"
            ]
           ],
           "sequentialminus": [
            [
             0,
             "#0d0887"
            ],
            [
             0.1111111111111111,
             "#46039f"
            ],
            [
             0.2222222222222222,
             "#7201a8"
            ],
            [
             0.3333333333333333,
             "#9c179e"
            ],
            [
             0.4444444444444444,
             "#bd3786"
            ],
            [
             0.5555555555555556,
             "#d8576b"
            ],
            [
             0.6666666666666666,
             "#ed7953"
            ],
            [
             0.7777777777777778,
             "#fb9f3a"
            ],
            [
             0.8888888888888888,
             "#fdca26"
            ],
            [
             1,
             "#f0f921"
            ]
           ]
          },
          "colorway": [
           "#636efa",
           "#EF553B",
           "#00cc96",
           "#ab63fa",
           "#FFA15A",
           "#19d3f3",
           "#FF6692",
           "#B6E880",
           "#FF97FF",
           "#FECB52"
          ],
          "font": {
           "color": "#2a3f5f"
          },
          "geo": {
           "bgcolor": "white",
           "lakecolor": "white",
           "landcolor": "#E5ECF6",
           "showlakes": true,
           "showland": true,
           "subunitcolor": "white"
          },
          "hoverlabel": {
           "align": "left"
          },
          "hovermode": "closest",
          "mapbox": {
           "style": "light"
          },
          "paper_bgcolor": "white",
          "plot_bgcolor": "#E5ECF6",
          "polar": {
           "angularaxis": {
            "gridcolor": "white",
            "linecolor": "white",
            "ticks": ""
           },
           "bgcolor": "#E5ECF6",
           "radialaxis": {
            "gridcolor": "white",
            "linecolor": "white",
            "ticks": ""
           }
          },
          "scene": {
           "xaxis": {
            "backgroundcolor": "#E5ECF6",
            "gridcolor": "white",
            "gridwidth": 2,
            "linecolor": "white",
            "showbackground": true,
            "ticks": "",
            "zerolinecolor": "white"
           },
           "yaxis": {
            "backgroundcolor": "#E5ECF6",
            "gridcolor": "white",
            "gridwidth": 2,
            "linecolor": "white",
            "showbackground": true,
            "ticks": "",
            "zerolinecolor": "white"
           },
           "zaxis": {
            "backgroundcolor": "#E5ECF6",
            "gridcolor": "white",
            "gridwidth": 2,
            "linecolor": "white",
            "showbackground": true,
            "ticks": "",
            "zerolinecolor": "white"
           }
          },
          "shapedefaults": {
           "line": {
            "color": "#2a3f5f"
           }
          },
          "ternary": {
           "aaxis": {
            "gridcolor": "white",
            "linecolor": "white",
            "ticks": ""
           },
           "baxis": {
            "gridcolor": "white",
            "linecolor": "white",
            "ticks": ""
           },
           "bgcolor": "#E5ECF6",
           "caxis": {
            "gridcolor": "white",
            "linecolor": "white",
            "ticks": ""
           }
          },
          "title": {
           "x": 0.05
          },
          "xaxis": {
           "automargin": true,
           "gridcolor": "white",
           "linecolor": "white",
           "ticks": "",
           "title": {
            "standoff": 15
           },
           "zerolinecolor": "white",
           "zerolinewidth": 2
          },
          "yaxis": {
           "automargin": true,
           "gridcolor": "white",
           "linecolor": "white",
           "ticks": "",
           "title": {
            "standoff": 15
           },
           "zerolinecolor": "white",
           "zerolinewidth": 2
          }
         }
        },
        "title": {
         "text": "Cluster Color Histograms (Rainbow Order)"
        },
        "width": 800,
        "xaxis": {
         "anchor": "y",
         "domain": [
          0,
          1
         ]
        },
        "xaxis2": {
         "anchor": "y2",
         "domain": [
          0,
          1
         ]
        },
        "yaxis": {
         "anchor": "x",
         "domain": [
          0.625,
          1
         ],
         "visible": false
        },
        "yaxis2": {
         "anchor": "x2",
         "domain": [
          0,
          0.375
         ],
         "visible": false
        }
       }
      }
     },
     "metadata": {},
     "output_type": "display_data"
    }
   ],
   "source": [
    "sorted_rgb_clusters = sort_by_hue(clusters)\n",
    "sorted_hsv_clusters = sort_by_hue(hsv_clusters)\n",
    "\n",
    "sorted_cluster_colors = [f'rgb({int(r)},{int(g)},{int(b)})' for r, g, b in sorted_rgb_clusters]\n",
    "sorted_hsv_colors = [f'rgb({int(r)},{int(g)},{int(b)})' for r, g, b in sorted_hsv_clusters]\n",
    "\n",
    "# Add hover text with RGB values\n",
    "rgb_hovertext = [f'RGB: ({int(r)}, {int(g)}, {int(b)})' for r, g, b in sorted_rgb_clusters]\n",
    "hsv_hovertext = [f'RGB: ({int(r)}, {int(g)}, {int(b)})' for r, g, b in sorted_hsv_clusters]\n",
    "\n",
    "fig = make_subplots(rows=2, cols=1, subplot_titles=(\"RGB Clusters (Rainbow Order)\", \"HSV Clusters (Rainbow Order)\"))\n",
    "\n",
    "fig.add_trace(\n",
    "    go.Bar(x=list(range(len(sorted_rgb_clusters))), y=[1]*len(sorted_rgb_clusters), marker_color=sorted_cluster_colors, showlegend=False, hovertext=rgb_hovertext, hoverinfo=\"text\"),\n",
    "    row=1, col=1\n",
    ")\n",
    "fig.add_trace(\n",
    "    go.Bar(x=list(range(len(sorted_hsv_clusters))), y=[1]*len(sorted_hsv_clusters), marker_color=sorted_hsv_colors, showlegend=False, hovertext=hsv_hovertext, hoverinfo=\"text\"),\n",
    "    row=2, col=1\n",
    ")\n",
    "\n",
    "fig.update_layout(height=400, width=800, title_text=\"Cluster Color Histograms (Rainbow Order)\")\n",
    "fig.update_yaxes(visible=False)\n",
    "fig.show()"
   ]
  }
 ],
 "metadata": {
  "kernelspec": {
   "display_name": "venv",
   "language": "python",
   "name": "python3"
  },
  "language_info": {
   "codemirror_mode": {
    "name": "ipython",
    "version": 3
   },
   "file_extension": ".py",
   "mimetype": "text/x-python",
   "name": "python",
   "nbconvert_exporter": "python",
   "pygments_lexer": "ipython3",
   "version": "3.11.9"
  }
 },
 "nbformat": 4,
 "nbformat_minor": 5
}
