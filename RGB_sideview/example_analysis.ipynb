{
 "cells": [
  {
   "cell_type": "markdown",
   "id": "7684eb63",
   "metadata": {},
   "source": [
    "# Feature extraction example for RGB sideview images\n",
    "The first step of image analysis is the segmentation, for this we recommend an instance segmentation algorithm. In the NPEC greenhouse a deeplab v3 algorithm is used to process the images.\n",
    "\n",
    "After the plant is segmented from the image, information about the plant can be extracted like it's height, number of green pixels, width. Or additional deeplearning networks can be used to find fruits, flowers or other objects in the images. In this example will keep things simple and limit it the work to width, height and plant pixels."
   ]
  },
  {
   "cell_type": "code",
   "execution_count": 12,
   "id": "6e0543e4",
   "metadata": {},
   "outputs": [],
   "source": [
    "# Imports\n",
    "import os\n",
    "import cv2\n",
    "import colorsys\n",
    "import math\n",
    "import numpy as np\n",
    "import plotly.express as px\n",
    "import plotly.graph_objs as go\n",
    "from plotly.subplots import make_subplots\n",
    "from sklearn.cluster import KMeans"
   ]
  },
  {
   "cell_type": "code",
   "execution_count": 2,
   "id": "6ff796c7",
   "metadata": {},
   "outputs": [],
   "source": [
    "# Load data\n",
    "foldername = \"example_data\"\n",
    "mask_filename = foldername + os.sep + \"mask.png\"\n",
    "mask_img = cv2.imread(str(mask_filename), -1)\n",
    "mask_img = cv2.rotate(mask_img, cv2.ROTATE_90_CLOCKWISE)\n",
    "\n",
    "masked_filename = foldername + os.sep + \"masked.png\"\n",
    "masked_img = cv2.imread(str(masked_filename), -1)\n",
    "masked_img = cv2.rotate(masked_img, cv2.ROTATE_90_CLOCKWISE)"
   ]
  },
  {
   "cell_type": "markdown",
   "id": "1b645e17",
   "metadata": {},
   "source": [
    "Helper functions"
   ]
  },
  {
   "cell_type": "code",
   "execution_count": 3,
   "id": "866b7640",
   "metadata": {},
   "outputs": [],
   "source": [
    "def boundingbox(mask_img, debug = False):\n",
    "    \"\"\"Determine width and height using a bounding box approach\n",
    "    Draw a straigth boundingbox around the contour, as shown here:\n",
    "    https://docs.opencv.org/3.1.0/dd/d49/tutorial_py_contour_features.html\n",
    "    \"\"\"\n",
    "    contours, _ = cv2.findContours(mask_img, cv2.RETR_EXTERNAL, cv2.CHAIN_APPROX_SIMPLE)\n",
    "    x, y, width, height = cv2.boundingRect(contours[0])\n",
    "\n",
    "    if debug:\n",
    "        debug_img = mask_img.copy()\n",
    "        debug_img = cv2.cvtColor(debug_img, cv2.COLOR_GRAY2BGR) \n",
    "        # draw only contour 0, used for the height meassurements\n",
    "        cv2.drawContours(debug_img, contours, 0, (255, 0, 0), 3)\n",
    "        # Draw all contours\n",
    "        # cv2.drawContours(debug_img, contours, -1, (255, 0, 0), 3)\n",
    "        cv2.rectangle(debug_img, (x, y), (x + width, y + height), (0, 255, 0), 2)\n",
    "        return debug_img, (x, y), width, height\n",
    "    return (x, y), width, height\n",
    "\n",
    "def ellipse_fit(mask_img, debug):\n",
    "    \"\"\"Fit an elipse to the first contour, find the minor and major axis\n",
    "    Returns the axis closest to vertical as height and the other as width\n",
    "    \"\"\"\n",
    "    contours, _ = cv2.findContours(mask_img, cv2.RETR_EXTERNAL, cv2.CHAIN_APPROX_SIMPLE)\n",
    "    ellipse = cv2.fitEllipse(contours[0])\n",
    "    width, height = compute_axis(ellipse)\n",
    "    if debug:\n",
    "        return ellipse, width, height\n",
    "    return width, height\n",
    "\n",
    "\n",
    "def compute_axis(ellipse, image=None):\n",
    "    \"\"\"Compute the start & end coordinates of the axis\n",
    "    Called with the ellipse and optional the image to draw the axis on.\n",
    "    see; https://stackoverflow.com/questions/62698756/opencv-calculating-orientation-angle-of-major-and-minor-axis-of-ellipse\"\"\"\n",
    "    (xc, yc), (d1, d2), angle = ellipse\n",
    "    radius = [d1/2, d2/2]\n",
    "    radius.sort(reverse=True)\n",
    "\n",
    "    # Longest axis red, shortest axis blue\n",
    "    colors = [(255, 0, 0), (0, 0, 255)]\n",
    "    angle_dist = {}\n",
    "    for i, d_axis in enumerate(radius):\n",
    "        if angle > 90:\n",
    "            angle = angle - 90\n",
    "        else:\n",
    "            angle = angle + 90\n",
    "        angle_dist[angle] = d_axis * 2\n",
    "        x1 = xc + math.cos(math.radians(angle))*d_axis\n",
    "        y1 = yc + math.sin(math.radians(angle))*d_axis\n",
    "        x2 = xc + math.cos(math.radians(angle+180))*d_axis\n",
    "        y2 = yc + math.sin(math.radians(angle+180))*d_axis\n",
    "        if image is not None:\n",
    "            cv2.line(image, (int(x1), int(y1)), (int(x2), int(y2)), colors[i], 3)\n",
    "    if image is not None:\n",
    "        return image\n",
    "    # Angle of 0 is horizontal, 90 degrees is vertical.\n",
    "    width = angle_dist[min(angle_dist.keys())]\n",
    "    height = angle_dist[max(angle_dist.keys())]\n",
    "    return width, height\n",
    "\n",
    "def resize_image(image, width=None, height=None, inter=cv2.INTER_AREA):\n",
    "    ''' Function to resize an image and keep its original aspect ratio '''\n",
    "    # initialize the dimensions of the image to be resized and grab the image size\n",
    "    dim = None\n",
    "    (h, w) = image.shape[:2]\n",
    "\n",
    "    # if both the width and height are None, then return the original image\n",
    "    if width is None and height is None:\n",
    "        return image\n",
    "    if width is None:\n",
    "        # calculate the ratio of the height and construct the dimensions\n",
    "        r = height / float(h)\n",
    "        dim = (int(w * r), height)\n",
    "    else:\n",
    "        r = width / float(w)\n",
    "        dim = (width, int(h * r))\n",
    "    return cv2.resize(image, dim, interpolation=inter)"
   ]
  },
  {
   "cell_type": "markdown",
   "id": "1330559c",
   "metadata": {},
   "source": [
    "## Shape analysis"
   ]
  },
  {
   "cell_type": "code",
   "execution_count": 4,
   "id": "6067f784",
   "metadata": {},
   "outputs": [],
   "source": [
    "def pixel_count(mask_img):\n",
    "    \"\"\"Return the number of non-zero pixels in the mask\"\"\"\n",
    "    pixel_count = np.count_nonzero(mask_img != 0)\n",
    "    return pixel_count"
   ]
  },
  {
   "cell_type": "code",
   "execution_count": 5,
   "id": "da90337c",
   "metadata": {},
   "outputs": [
    {
     "name": "stdout",
     "output_type": "stream",
     "text": [
      "pixel count: 33351\n"
     ]
    }
   ],
   "source": [
    "pixel_c = pixel_count(mask_img)\n",
    "print(f\"pixel count: {pixel_c}\")"
   ]
  },
  {
   "cell_type": "code",
   "execution_count": 26,
   "id": "4d44a2cd",
   "metadata": {},
   "outputs": [
    {
     "name": "stdout",
     "output_type": "stream",
     "text": [
      "width: 216, height: 444\n",
      "Ellipse width: 216, height: 444\n"
     ]
    }
   ],
   "source": [
    "debug_img, _, width, height = boundingbox(mask_img, True)\n",
    "print(f\"width: {width}, height: {height}\")\n",
    "\n",
    "ellipse, e_width, e_height = ellipse_fit(mask_img, True)\n",
    "cv2.ellipse(debug_img, ellipse, (0, 255, 0), 3)\n",
    "debug_img = compute_axis(ellipse, debug_img)\n",
    "print(f\"Ellipse width: {width}, height: {height}\")"
   ]
  },
  {
   "cell_type": "code",
   "execution_count": null,
   "id": "eb87d13e",
   "metadata": {},
   "outputs": [
    {
     "name": "stdout",
     "output_type": "stream",
     "text": [
      "Bounding box x: 1418, y: 2940, width: 216, height: 444\n"
     ]
    },
    {
     "data": {
      "application/vnd.plotly.v1+json": {
       "config": {
        "plotlyServerURL": "https://plot.ly"
       },
       "data": [
        {
         "hovertemplate": "x: %{x}<br>y: %{y}<br>color: [%{z[0]}, %{z[1]}, %{z[2]}]<extra></extra>",
         "name": "0",
         "source": "data:image/png;base64,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",
         "type": "image",
         "xaxis": "x",
         "yaxis": "y"
        }
       ],
       "layout": {
        "template": {
         "data": {
          "bar": [
           {
            "error_x": {
             "color": "#2a3f5f"
            },
            "error_y": {
             "color": "#2a3f5f"
            },
            "marker": {
             "line": {
              "color": "#E5ECF6",
              "width": 0.5
             },
             "pattern": {
              "fillmode": "overlay",
              "size": 10,
              "solidity": 0.2
             }
            },
            "type": "bar"
           }
          ],
          "barpolar": [
           {
            "marker": {
             "line": {
              "color": "#E5ECF6",
              "width": 0.5
             },
             "pattern": {
              "fillmode": "overlay",
              "size": 10,
              "solidity": 0.2
             }
            },
            "type": "barpolar"
           }
          ],
          "carpet": [
           {
            "aaxis": {
             "endlinecolor": "#2a3f5f",
             "gridcolor": "white",
             "linecolor": "white",
             "minorgridcolor": "white",
             "startlinecolor": "#2a3f5f"
            },
            "baxis": {
             "endlinecolor": "#2a3f5f",
             "gridcolor": "white",
             "linecolor": "white",
             "minorgridcolor": "white",
             "startlinecolor": "#2a3f5f"
            },
            "type": "carpet"
           }
          ],
          "choropleth": [
           {
            "colorbar": {
             "outlinewidth": 0,
             "ticks": ""
            },
            "type": "choropleth"
           }
          ],
          "contour": [
           {
            "colorbar": {
             "outlinewidth": 0,
             "ticks": ""
            },
            "colorscale": [
             [
              0,
              "#0d0887"
             ],
             [
              0.1111111111111111,
              "#46039f"
             ],
             [
              0.2222222222222222,
              "#7201a8"
             ],
             [
              0.3333333333333333,
              "#9c179e"
             ],
             [
              0.4444444444444444,
              "#bd3786"
             ],
             [
              0.5555555555555556,
              "#d8576b"
             ],
             [
              0.6666666666666666,
              "#ed7953"
             ],
             [
              0.7777777777777778,
              "#fb9f3a"
             ],
             [
              0.8888888888888888,
              "#fdca26"
             ],
             [
              1,
              "#f0f921"
             ]
            ],
            "type": "contour"
           }
          ],
          "contourcarpet": [
           {
            "colorbar": {
             "outlinewidth": 0,
             "ticks": ""
            },
            "type": "contourcarpet"
           }
          ],
          "heatmap": [
           {
            "colorbar": {
             "outlinewidth": 0,
             "ticks": ""
            },
            "colorscale": [
             [
              0,
              "#0d0887"
             ],
             [
              0.1111111111111111,
              "#46039f"
             ],
             [
              0.2222222222222222,
              "#7201a8"
             ],
             [
              0.3333333333333333,
              "#9c179e"
             ],
             [
              0.4444444444444444,
              "#bd3786"
             ],
             [
              0.5555555555555556,
              "#d8576b"
             ],
             [
              0.6666666666666666,
              "#ed7953"
             ],
             [
              0.7777777777777778,
              "#fb9f3a"
             ],
             [
              0.8888888888888888,
              "#fdca26"
             ],
             [
              1,
              "#f0f921"
             ]
            ],
            "type": "heatmap"
           }
          ],
          "histogram": [
           {
            "marker": {
             "pattern": {
              "fillmode": "overlay",
              "size": 10,
              "solidity": 0.2
             }
            },
            "type": "histogram"
           }
          ],
          "histogram2d": [
           {
            "colorbar": {
             "outlinewidth": 0,
             "ticks": ""
            },
            "colorscale": [
             [
              0,
              "#0d0887"
             ],
             [
              0.1111111111111111,
              "#46039f"
             ],
             [
              0.2222222222222222,
              "#7201a8"
             ],
             [
              0.3333333333333333,
              "#9c179e"
             ],
             [
              0.4444444444444444,
              "#bd3786"
             ],
             [
              0.5555555555555556,
              "#d8576b"
             ],
             [
              0.6666666666666666,
              "#ed7953"
             ],
             [
              0.7777777777777778,
              "#fb9f3a"
             ],
             [
              0.8888888888888888,
              "#fdca26"
             ],
             [
              1,
              "#f0f921"
             ]
            ],
            "type": "histogram2d"
           }
          ],
          "histogram2dcontour": [
           {
            "colorbar": {
             "outlinewidth": 0,
             "ticks": ""
            },
            "colorscale": [
             [
              0,
              "#0d0887"
             ],
             [
              0.1111111111111111,
              "#46039f"
             ],
             [
              0.2222222222222222,
              "#7201a8"
             ],
             [
              0.3333333333333333,
              "#9c179e"
             ],
             [
              0.4444444444444444,
              "#bd3786"
             ],
             [
              0.5555555555555556,
              "#d8576b"
             ],
             [
              0.6666666666666666,
              "#ed7953"
             ],
             [
              0.7777777777777778,
              "#fb9f3a"
             ],
             [
              0.8888888888888888,
              "#fdca26"
             ],
             [
              1,
              "#f0f921"
             ]
            ],
            "type": "histogram2dcontour"
           }
          ],
          "mesh3d": [
           {
            "colorbar": {
             "outlinewidth": 0,
             "ticks": ""
            },
            "type": "mesh3d"
           }
          ],
          "parcoords": [
           {
            "line": {
             "colorbar": {
              "outlinewidth": 0,
              "ticks": ""
             }
            },
            "type": "parcoords"
           }
          ],
          "pie": [
           {
            "automargin": true,
            "type": "pie"
           }
          ],
          "scatter": [
           {
            "fillpattern": {
             "fillmode": "overlay",
             "size": 10,
             "solidity": 0.2
            },
            "type": "scatter"
           }
          ],
          "scatter3d": [
           {
            "line": {
             "colorbar": {
              "outlinewidth": 0,
              "ticks": ""
             }
            },
            "marker": {
             "colorbar": {
              "outlinewidth": 0,
              "ticks": ""
             }
            },
            "type": "scatter3d"
           }
          ],
          "scattercarpet": [
           {
            "marker": {
             "colorbar": {
              "outlinewidth": 0,
              "ticks": ""
             }
            },
            "type": "scattercarpet"
           }
          ],
          "scattergeo": [
           {
            "marker": {
             "colorbar": {
              "outlinewidth": 0,
              "ticks": ""
             }
            },
            "type": "scattergeo"
           }
          ],
          "scattergl": [
           {
            "marker": {
             "colorbar": {
              "outlinewidth": 0,
              "ticks": ""
             }
            },
            "type": "scattergl"
           }
          ],
          "scattermap": [
           {
            "marker": {
             "colorbar": {
              "outlinewidth": 0,
              "ticks": ""
             }
            },
            "type": "scattermap"
           }
          ],
          "scattermapbox": [
           {
            "marker": {
             "colorbar": {
              "outlinewidth": 0,
              "ticks": ""
             }
            },
            "type": "scattermapbox"
           }
          ],
          "scatterpolar": [
           {
            "marker": {
             "colorbar": {
              "outlinewidth": 0,
              "ticks": ""
             }
            },
            "type": "scatterpolar"
           }
          ],
          "scatterpolargl": [
           {
            "marker": {
             "colorbar": {
              "outlinewidth": 0,
              "ticks": ""
             }
            },
            "type": "scatterpolargl"
           }
          ],
          "scatterternary": [
           {
            "marker": {
             "colorbar": {
              "outlinewidth": 0,
              "ticks": ""
             }
            },
            "type": "scatterternary"
           }
          ],
          "surface": [
           {
            "colorbar": {
             "outlinewidth": 0,
             "ticks": ""
            },
            "colorscale": [
             [
              0,
              "#0d0887"
             ],
             [
              0.1111111111111111,
              "#46039f"
             ],
             [
              0.2222222222222222,
              "#7201a8"
             ],
             [
              0.3333333333333333,
              "#9c179e"
             ],
             [
              0.4444444444444444,
              "#bd3786"
             ],
             [
              0.5555555555555556,
              "#d8576b"
             ],
             [
              0.6666666666666666,
              "#ed7953"
             ],
             [
              0.7777777777777778,
              "#fb9f3a"
             ],
             [
              0.8888888888888888,
              "#fdca26"
             ],
             [
              1,
              "#f0f921"
             ]
            ],
            "type": "surface"
           }
          ],
          "table": [
           {
            "cells": {
             "fill": {
              "color": "#EBF0F8"
             },
             "line": {
              "color": "white"
             }
            },
            "header": {
             "fill": {
              "color": "#C8D4E3"
             },
             "line": {
              "color": "white"
             }
            },
            "type": "table"
           }
          ]
         },
         "layout": {
          "annotationdefaults": {
           "arrowcolor": "#2a3f5f",
           "arrowhead": 0,
           "arrowwidth": 1
          },
          "autotypenumbers": "strict",
          "coloraxis": {
           "colorbar": {
            "outlinewidth": 0,
            "ticks": ""
           }
          },
          "colorscale": {
           "diverging": [
            [
             0,
             "#8e0152"
            ],
            [
             0.1,
             "#c51b7d"
            ],
            [
             0.2,
             "#de77ae"
            ],
            [
             0.3,
             "#f1b6da"
            ],
            [
             0.4,
             "#fde0ef"
            ],
            [
             0.5,
             "#f7f7f7"
            ],
            [
             0.6,
             "#e6f5d0"
            ],
            [
             0.7,
             "#b8e186"
            ],
            [
             0.8,
             "#7fbc41"
            ],
            [
             0.9,
             "#4d9221"
            ],
            [
             1,
             "#276419"
            ]
           ],
           "sequential": [
            [
             0,
             "#0d0887"
            ],
            [
             0.1111111111111111,
             "#46039f"
            ],
            [
             0.2222222222222222,
             "#7201a8"
            ],
            [
             0.3333333333333333,
             "#9c179e"
            ],
            [
             0.4444444444444444,
             "#bd3786"
            ],
            [
             0.5555555555555556,
             "#d8576b"
            ],
            [
             0.6666666666666666,
             "#ed7953"
            ],
            [
             0.7777777777777778,
             "#fb9f3a"
            ],
            [
             0.8888888888888888,
             "#fdca26"
            ],
            [
             1,
             "#f0f921"
            ]
           ],
           "sequentialminus": [
            [
             0,
             "#0d0887"
            ],
            [
             0.1111111111111111,
             "#46039f"
            ],
            [
             0.2222222222222222,
             "#7201a8"
            ],
            [
             0.3333333333333333,
             "#9c179e"
            ],
            [
             0.4444444444444444,
             "#bd3786"
            ],
            [
             0.5555555555555556,
             "#d8576b"
            ],
            [
             0.6666666666666666,
             "#ed7953"
            ],
            [
             0.7777777777777778,
             "#fb9f3a"
            ],
            [
             0.8888888888888888,
             "#fdca26"
            ],
            [
             1,
             "#f0f921"
            ]
           ]
          },
          "colorway": [
           "#636efa",
           "#EF553B",
           "#00cc96",
           "#ab63fa",
           "#FFA15A",
           "#19d3f3",
           "#FF6692",
           "#B6E880",
           "#FF97FF",
           "#FECB52"
          ],
          "font": {
           "color": "#2a3f5f"
          },
          "geo": {
           "bgcolor": "white",
           "lakecolor": "white",
           "landcolor": "#E5ECF6",
           "showlakes": true,
           "showland": true,
           "subunitcolor": "white"
          },
          "hoverlabel": {
           "align": "left"
          },
          "hovermode": "closest",
          "mapbox": {
           "style": "light"
          },
          "paper_bgcolor": "white",
          "plot_bgcolor": "#E5ECF6",
          "polar": {
           "angularaxis": {
            "gridcolor": "white",
            "linecolor": "white",
            "ticks": ""
           },
           "bgcolor": "#E5ECF6",
           "radialaxis": {
            "gridcolor": "white",
            "linecolor": "white",
            "ticks": ""
           }
          },
          "scene": {
           "xaxis": {
            "backgroundcolor": "#E5ECF6",
            "gridcolor": "white",
            "gridwidth": 2,
            "linecolor": "white",
            "showbackground": true,
            "ticks": "",
            "zerolinecolor": "white"
           },
           "yaxis": {
            "backgroundcolor": "#E5ECF6",
            "gridcolor": "white",
            "gridwidth": 2,
            "linecolor": "white",
            "showbackground": true,
            "ticks": "",
            "zerolinecolor": "white"
           },
           "zaxis": {
            "backgroundcolor": "#E5ECF6",
            "gridcolor": "white",
            "gridwidth": 2,
            "linecolor": "white",
            "showbackground": true,
            "ticks": "",
            "zerolinecolor": "white"
           }
          },
          "shapedefaults": {
           "line": {
            "color": "#2a3f5f"
           }
          },
          "ternary": {
           "aaxis": {
            "gridcolor": "white",
            "linecolor": "white",
            "ticks": ""
           },
           "baxis": {
            "gridcolor": "white",
            "linecolor": "white",
            "ticks": ""
           },
           "bgcolor": "#E5ECF6",
           "caxis": {
            "gridcolor": "white",
            "linecolor": "white",
            "ticks": ""
           }
          },
          "title": {
           "x": 0.05
          },
          "xaxis": {
           "automargin": true,
           "gridcolor": "white",
           "linecolor": "white",
           "ticks": "",
           "title": {
            "standoff": 15
           },
           "zerolinecolor": "white",
           "zerolinewidth": 2
          },
          "yaxis": {
           "automargin": true,
           "gridcolor": "white",
           "linecolor": "white",
           "ticks": "",
           "title": {
            "standoff": 15
           },
           "zerolinecolor": "white",
           "zerolinewidth": 2
          }
         }
        },
        "title": {
         "text": "Debug Preview (Cropped)"
        },
        "xaxis": {
         "anchor": "y",
         "domain": [
          0,
          1
         ],
         "showticklabels": false
        },
        "yaxis": {
         "anchor": "x",
         "domain": [
          0,
          1
         ],
         "showticklabels": false
        }
       }
      }
     },
     "metadata": {},
     "output_type": "display_data"
    }
   ],
   "source": [
    "def add_margin(param, img_shape, margin = 50):\n",
    "    \"\"\"Add margin to the bounding box coordinates\"\"\"\n",
    "    if param + margin < 0:\n",
    "        param_min = 0\n",
    "    else:\n",
    "        param_min = param - margin\n",
    "    if param + margin > img_shape[0] or param + margin > img_shape[1]:\n",
    "        param_min = min(param_min, img_shape[0] - margin, img_shape[1] - margin)\n",
    "    return param_min\n",
    "\n",
    "# Crop debug_img to bounding box, resize, and display inline (with shape check)\n",
    "(x, y), width, height = boundingbox(mask_img)\n",
    "print(f\"Bounding box x: {x}, y: {y}, width: {width}, height: {height}\")\n",
    "\n",
    "cropped_img = debug_img[y:y+height, x:x+width]\n",
    "\n",
    "if cropped_img.shape[0] == 0 or cropped_img.shape[1] == 0:\n",
    "    print(\"Warning: Cropped image has zero height or width. Check the mask and bounding box.\")\n",
    "else:\n",
    "    cropped_img = resize_image(cropped_img, height=700)\n",
    "    fig = px.imshow(cv2.cvtColor(cropped_img, cv2.COLOR_BGR2RGB), title='Debug Preview (Cropped)')\n",
    "    fig.update_xaxes(showticklabels=False)\n",
    "    fig.update_yaxes(showticklabels=False)\n",
    "    fig.show()\n",
    "\n",
    "# NOTE: from a checkerboard calibration we know that 125 pixels translate to 50 mm at the center of the pot.\n",
    "pixel_to_mm = 50/125"
   ]
  },
  {
   "cell_type": "markdown",
   "id": "ade1cb6b",
   "metadata": {},
   "source": [
    "## Color analysis\n",
    "Segmentation is never perfect which explains the blue clusters. The other clusters and the number of pixels of pixels/cluster might in some cases contain information about the plants health."
   ]
  },
  {
   "cell_type": "code",
   "execution_count": 7,
   "id": "2e752721",
   "metadata": {},
   "outputs": [],
   "source": [
    "def color_histogram(image, mask, hsv = False, n_clusters = 51):\n",
    "    \"\"\" compute the counts per color in the image, with an option to select the number of return values\n",
    "        Bins are used to group the colors\n",
    "        MiniBatchKMeans sampled the background to often, instead the image is resized and fed into normal kmeans\n",
    "        \"\"\"\n",
    "    if hsv:\n",
    "        image = cv2.cvtColor(image, cv2.COLOR_BGR2HSV)\n",
    "    \n",
    "    # use boundingbox to only analyse the part of the image that contain plant\n",
    "    (x, y), width, height = boundingbox(mask)\n",
    "    plant_img = image[y:y+height, x:x+width, :]\n",
    "    # apply k-means using the specified number of clusters and\n",
    "    # then create the quantized image based on the predictions\n",
    "    # Mini batch is used instead of normal kmeans to lower the computation time\n",
    "    plant_img = plant_img.reshape((plant_img.shape[0] * plant_img.shape[1], 3))\n",
    "    kmean = KMeans(n_clusters = n_clusters)\n",
    "    labels = kmean.fit_predict(plant_img)\n",
    "    clusters = kmean.cluster_centers_.astype(\"uint8\")\n",
    "    # Remove background cluster\n",
    "    return clusters[clusters != [0, 0, 0]].reshape(n_clusters-1, 3)\n",
    "\n",
    "def sort_by_hue(clusters):\n",
    "    # Prepare data for plotting, sorted by hue (rainbow order) with hover info\n",
    "\n",
    "    rgb_norm = clusters / 255.0\n",
    "    hsv = np.array([colorsys.rgb_to_hsv(*rgb) for rgb in rgb_norm])\n",
    "    idx = np.argsort(hsv[:,0])\n",
    "    return clusters[idx]"
   ]
  },
  {
   "cell_type": "code",
   "execution_count": 9,
   "id": "1d3737bc",
   "metadata": {},
   "outputs": [],
   "source": [
    "clusters = color_histogram(masked_img, mask_img)\n",
    "hsv_clusters = color_histogram(masked_img, mask_img, True)"
   ]
  },
  {
   "cell_type": "code",
   "execution_count": 10,
   "id": "91903cb4",
   "metadata": {},
   "outputs": [
    {
     "data": {
      "application/vnd.plotly.v1+json": {
       "config": {
        "plotlyServerURL": "https://plot.ly"
       },
       "data": [
        {
         "hoverinfo": "text",
         "hovertext": [
          "RGB: (90, 70, 60)",
          "RGB: (80, 55, 38)",
          "RGB: (95, 66, 41)",
          "RGB: (95, 89, 77)",
          "RGB: (102, 95, 49)",
          "RGB: (74, 74, 47)",
          "RGB: (123, 130, 64)",
          "RGB: (102, 111, 84)",
          "RGB: (137, 159, 105)",
          "RGB: (75, 83, 65)",
          "RGB: (114, 131, 106)",
          "RGB: (78, 96, 77)",
          "RGB: (53, 64, 54)",
          "RGB: (83, 104, 86)",
          "RGB: (126, 149, 132)",
          "RGB: (147, 184, 158)",
          "RGB: (136, 164, 145)",
          "RGB: (90, 116, 99)",
          "RGB: (110, 147, 124)",
          "RGB: (57, 77, 66)",
          "RGB: (63, 89, 75)",
          "RGB: (67, 101, 83)",
          "RGB: (162, 212, 186)",
          "RGB: (93, 132, 112)",
          "RGB: (72, 113, 94)",
          "RGB: (176, 232, 209)",
          "RGB: (73, 127, 107)",
          "RGB: (137, 196, 175)",
          "RGB: (123, 178, 159)",
          "RGB: (112, 159, 144)",
          "RGB: (85, 149, 131)",
          "RGB: (141, 214, 197)",
          "RGB: (105, 132, 133)",
          "RGB: (92, 163, 166)",
          "RGB: (79, 126, 129)",
          "RGB: (141, 247, 254)",
          "RGB: (123, 179, 190)",
          "RGB: (135, 222, 243)",
          "RGB: (62, 92, 101)",
          "RGB: (74, 105, 117)",
          "RGB: (118, 191, 229)",
          "RGB: (112, 141, 165)",
          "RGB: (101, 109, 118)",
          "RGB: (91, 115, 152)",
          "RGB: (105, 140, 204)",
          "RGB: (85, 114, 182)",
          "RGB: (73, 82, 143)",
          "RGB: (92, 88, 103)",
          "RGB: (85, 69, 84)",
          "RGB: (40, 38, 39)"
         ],
         "marker": {
          "color": [
           "rgb(90,70,60)",
           "rgb(80,55,38)",
           "rgb(95,66,41)",
           "rgb(95,89,77)",
           "rgb(102,95,49)",
           "rgb(74,74,47)",
           "rgb(123,130,64)",
           "rgb(102,111,84)",
           "rgb(137,159,105)",
           "rgb(75,83,65)",
           "rgb(114,131,106)",
           "rgb(78,96,77)",
           "rgb(53,64,54)",
           "rgb(83,104,86)",
           "rgb(126,149,132)",
           "rgb(147,184,158)",
           "rgb(136,164,145)",
           "rgb(90,116,99)",
           "rgb(110,147,124)",
           "rgb(57,77,66)",
           "rgb(63,89,75)",
           "rgb(67,101,83)",
           "rgb(162,212,186)",
           "rgb(93,132,112)",
           "rgb(72,113,94)",
           "rgb(176,232,209)",
           "rgb(73,127,107)",
           "rgb(137,196,175)",
           "rgb(123,178,159)",
           "rgb(112,159,144)",
           "rgb(85,149,131)",
           "rgb(141,214,197)",
           "rgb(105,132,133)",
           "rgb(92,163,166)",
           "rgb(79,126,129)",
           "rgb(141,247,254)",
           "rgb(123,179,190)",
           "rgb(135,222,243)",
           "rgb(62,92,101)",
           "rgb(74,105,117)",
           "rgb(118,191,229)",
           "rgb(112,141,165)",
           "rgb(101,109,118)",
           "rgb(91,115,152)",
           "rgb(105,140,204)",
           "rgb(85,114,182)",
           "rgb(73,82,143)",
           "rgb(92,88,103)",
           "rgb(85,69,84)",
           "rgb(40,38,39)"
          ]
         },
         "showlegend": false,
         "type": "bar",
         "x": [
          0,
          1,
          2,
          3,
          4,
          5,
          6,
          7,
          8,
          9,
          10,
          11,
          12,
          13,
          14,
          15,
          16,
          17,
          18,
          19,
          20,
          21,
          22,
          23,
          24,
          25,
          26,
          27,
          28,
          29,
          30,
          31,
          32,
          33,
          34,
          35,
          36,
          37,
          38,
          39,
          40,
          41,
          42,
          43,
          44,
          45,
          46,
          47,
          48,
          49
         ],
         "xaxis": "x",
         "y": [
          1,
          1,
          1,
          1,
          1,
          1,
          1,
          1,
          1,
          1,
          1,
          1,
          1,
          1,
          1,
          1,
          1,
          1,
          1,
          1,
          1,
          1,
          1,
          1,
          1,
          1,
          1,
          1,
          1,
          1,
          1,
          1,
          1,
          1,
          1,
          1,
          1,
          1,
          1,
          1,
          1,
          1,
          1,
          1,
          1,
          1,
          1,
          1,
          1,
          1
         ],
         "yaxis": "y"
        },
        {
         "hoverinfo": "text",
         "hovertext": [
          "RGB: (86, 91, 78)",
          "RGB: (103, 116, 87)",
          "RGB: (102, 144, 88)",
          "RGB: (101, 169, 104)",
          "RGB: (31, 113, 103)",
          "RGB: (88, 125, 122)",
          "RGB: (24, 134, 131)",
          "RGB: (43, 91, 90)",
          "RGB: (38, 107, 125)",
          "RGB: (22, 84, 101)",
          "RGB: (11, 145, 206)",
          "RGB: (38, 115, 153)",
          "RGB: (16, 121, 178)",
          "RGB: (45, 89, 114)",
          "RGB: (47, 67, 79)",
          "RGB: (19, 43, 58)",
          "RGB: (14, 97, 151)",
          "RGB: (16, 67, 122)",
          "RGB: (39, 85, 139)",
          "RGB: (23, 110, 225)",
          "RGB: (50, 71, 101)",
          "RGB: (26, 115, 251)",
          "RGB: (35, 90, 198)",
          "RGB: (39, 83, 170)",
          "RGB: (23, 64, 158)",
          "RGB: (45, 66, 121)",
          "RGB: (41, 71, 193)",
          "RGB: (47, 60, 149)",
          "RGB: (22, 31, 101)",
          "RGB: (44, 63, 222)",
          "RGB: (75, 82, 150)",
          "RGB: (33, 39, 131)",
          "RGB: (52, 54, 98)",
          "RGB: (47, 52, 181)",
          "RGB: (78, 79, 111)",
          "RGB: (56, 49, 118)",
          "RGB: (53, 38, 154)",
          "RGB: (71, 56, 95)",
          "RGB: (76, 37, 135)",
          "RGB: (61, 35, 96)",
          "RGB: (62, 43, 72)",
          "RGB: (94, 27, 90)",
          "RGB: (115, 49, 95)",
          "RGB: (88, 57, 75)",
          "RGB: (171, 54, 118)",
          "RGB: (152, 27, 94)",
          "RGB: (174, 112, 141)",
          "RGB: (109, 84, 91)",
          "RGB: (147, 78, 93)",
          "RGB: (135, 36, 42)"
         ],
         "marker": {
          "color": [
           "rgb(86,91,78)",
           "rgb(103,116,87)",
           "rgb(102,144,88)",
           "rgb(101,169,104)",
           "rgb(31,113,103)",
           "rgb(88,125,122)",
           "rgb(24,134,131)",
           "rgb(43,91,90)",
           "rgb(38,107,125)",
           "rgb(22,84,101)",
           "rgb(11,145,206)",
           "rgb(38,115,153)",
           "rgb(16,121,178)",
           "rgb(45,89,114)",
           "rgb(47,67,79)",
           "rgb(19,43,58)",
           "rgb(14,97,151)",
           "rgb(16,67,122)",
           "rgb(39,85,139)",
           "rgb(23,110,225)",
           "rgb(50,71,101)",
           "rgb(26,115,251)",
           "rgb(35,90,198)",
           "rgb(39,83,170)",
           "rgb(23,64,158)",
           "rgb(45,66,121)",
           "rgb(41,71,193)",
           "rgb(47,60,149)",
           "rgb(22,31,101)",
           "rgb(44,63,222)",
           "rgb(75,82,150)",
           "rgb(33,39,131)",
           "rgb(52,54,98)",
           "rgb(47,52,181)",
           "rgb(78,79,111)",
           "rgb(56,49,118)",
           "rgb(53,38,154)",
           "rgb(71,56,95)",
           "rgb(76,37,135)",
           "rgb(61,35,96)",
           "rgb(62,43,72)",
           "rgb(94,27,90)",
           "rgb(115,49,95)",
           "rgb(88,57,75)",
           "rgb(171,54,118)",
           "rgb(152,27,94)",
           "rgb(174,112,141)",
           "rgb(109,84,91)",
           "rgb(147,78,93)",
           "rgb(135,36,42)"
          ]
         },
         "showlegend": false,
         "type": "bar",
         "x": [
          0,
          1,
          2,
          3,
          4,
          5,
          6,
          7,
          8,
          9,
          10,
          11,
          12,
          13,
          14,
          15,
          16,
          17,
          18,
          19,
          20,
          21,
          22,
          23,
          24,
          25,
          26,
          27,
          28,
          29,
          30,
          31,
          32,
          33,
          34,
          35,
          36,
          37,
          38,
          39,
          40,
          41,
          42,
          43,
          44,
          45,
          46,
          47,
          48,
          49
         ],
         "xaxis": "x2",
         "y": [
          1,
          1,
          1,
          1,
          1,
          1,
          1,
          1,
          1,
          1,
          1,
          1,
          1,
          1,
          1,
          1,
          1,
          1,
          1,
          1,
          1,
          1,
          1,
          1,
          1,
          1,
          1,
          1,
          1,
          1,
          1,
          1,
          1,
          1,
          1,
          1,
          1,
          1,
          1,
          1,
          1,
          1,
          1,
          1,
          1,
          1,
          1,
          1,
          1,
          1
         ],
         "yaxis": "y2"
        }
       ],
       "layout": {
        "annotations": [
         {
          "font": {
           "size": 16
          },
          "showarrow": false,
          "text": "RGB Clusters (Rainbow Order)",
          "x": 0.5,
          "xanchor": "center",
          "xref": "paper",
          "y": 1,
          "yanchor": "bottom",
          "yref": "paper"
         },
         {
          "font": {
           "size": 16
          },
          "showarrow": false,
          "text": "HSV Clusters (Rainbow Order)",
          "x": 0.5,
          "xanchor": "center",
          "xref": "paper",
          "y": 0.375,
          "yanchor": "bottom",
          "yref": "paper"
         }
        ],
        "height": 400,
        "template": {
         "data": {
          "bar": [
           {
            "error_x": {
             "color": "#2a3f5f"
            },
            "error_y": {
             "color": "#2a3f5f"
            },
            "marker": {
             "line": {
              "color": "#E5ECF6",
              "width": 0.5
             },
             "pattern": {
              "fillmode": "overlay",
              "size": 10,
              "solidity": 0.2
             }
            },
            "type": "bar"
           }
          ],
          "barpolar": [
           {
            "marker": {
             "line": {
              "color": "#E5ECF6",
              "width": 0.5
             },
             "pattern": {
              "fillmode": "overlay",
              "size": 10,
              "solidity": 0.2
             }
            },
            "type": "barpolar"
           }
          ],
          "carpet": [
           {
            "aaxis": {
             "endlinecolor": "#2a3f5f",
             "gridcolor": "white",
             "linecolor": "white",
             "minorgridcolor": "white",
             "startlinecolor": "#2a3f5f"
            },
            "baxis": {
             "endlinecolor": "#2a3f5f",
             "gridcolor": "white",
             "linecolor": "white",
             "minorgridcolor": "white",
             "startlinecolor": "#2a3f5f"
            },
            "type": "carpet"
           }
          ],
          "choropleth": [
           {
            "colorbar": {
             "outlinewidth": 0,
             "ticks": ""
            },
            "type": "choropleth"
           }
          ],
          "contour": [
           {
            "colorbar": {
             "outlinewidth": 0,
             "ticks": ""
            },
            "colorscale": [
             [
              0,
              "#0d0887"
             ],
             [
              0.1111111111111111,
              "#46039f"
             ],
             [
              0.2222222222222222,
              "#7201a8"
             ],
             [
              0.3333333333333333,
              "#9c179e"
             ],
             [
              0.4444444444444444,
              "#bd3786"
             ],
             [
              0.5555555555555556,
              "#d8576b"
             ],
             [
              0.6666666666666666,
              "#ed7953"
             ],
             [
              0.7777777777777778,
              "#fb9f3a"
             ],
             [
              0.8888888888888888,
              "#fdca26"
             ],
             [
              1,
              "#f0f921"
             ]
            ],
            "type": "contour"
           }
          ],
          "contourcarpet": [
           {
            "colorbar": {
             "outlinewidth": 0,
             "ticks": ""
            },
            "type": "contourcarpet"
           }
          ],
          "heatmap": [
           {
            "colorbar": {
             "outlinewidth": 0,
             "ticks": ""
            },
            "colorscale": [
             [
              0,
              "#0d0887"
             ],
             [
              0.1111111111111111,
              "#46039f"
             ],
             [
              0.2222222222222222,
              "#7201a8"
             ],
             [
              0.3333333333333333,
              "#9c179e"
             ],
             [
              0.4444444444444444,
              "#bd3786"
             ],
             [
              0.5555555555555556,
              "#d8576b"
             ],
             [
              0.6666666666666666,
              "#ed7953"
             ],
             [
              0.7777777777777778,
              "#fb9f3a"
             ],
             [
              0.8888888888888888,
              "#fdca26"
             ],
             [
              1,
              "#f0f921"
             ]
            ],
            "type": "heatmap"
           }
          ],
          "histogram": [
           {
            "marker": {
             "pattern": {
              "fillmode": "overlay",
              "size": 10,
              "solidity": 0.2
             }
            },
            "type": "histogram"
           }
          ],
          "histogram2d": [
           {
            "colorbar": {
             "outlinewidth": 0,
             "ticks": ""
            },
            "colorscale": [
             [
              0,
              "#0d0887"
             ],
             [
              0.1111111111111111,
              "#46039f"
             ],
             [
              0.2222222222222222,
              "#7201a8"
             ],
             [
              0.3333333333333333,
              "#9c179e"
             ],
             [
              0.4444444444444444,
              "#bd3786"
             ],
             [
              0.5555555555555556,
              "#d8576b"
             ],
             [
              0.6666666666666666,
              "#ed7953"
             ],
             [
              0.7777777777777778,
              "#fb9f3a"
             ],
             [
              0.8888888888888888,
              "#fdca26"
             ],
             [
              1,
              "#f0f921"
             ]
            ],
            "type": "histogram2d"
           }
          ],
          "histogram2dcontour": [
           {
            "colorbar": {
             "outlinewidth": 0,
             "ticks": ""
            },
            "colorscale": [
             [
              0,
              "#0d0887"
             ],
             [
              0.1111111111111111,
              "#46039f"
             ],
             [
              0.2222222222222222,
              "#7201a8"
             ],
             [
              0.3333333333333333,
              "#9c179e"
             ],
             [
              0.4444444444444444,
              "#bd3786"
             ],
             [
              0.5555555555555556,
              "#d8576b"
             ],
             [
              0.6666666666666666,
              "#ed7953"
             ],
             [
              0.7777777777777778,
              "#fb9f3a"
             ],
             [
              0.8888888888888888,
              "#fdca26"
             ],
             [
              1,
              "#f0f921"
             ]
            ],
            "type": "histogram2dcontour"
           }
          ],
          "mesh3d": [
           {
            "colorbar": {
             "outlinewidth": 0,
             "ticks": ""
            },
            "type": "mesh3d"
           }
          ],
          "parcoords": [
           {
            "line": {
             "colorbar": {
              "outlinewidth": 0,
              "ticks": ""
             }
            },
            "type": "parcoords"
           }
          ],
          "pie": [
           {
            "automargin": true,
            "type": "pie"
           }
          ],
          "scatter": [
           {
            "fillpattern": {
             "fillmode": "overlay",
             "size": 10,
             "solidity": 0.2
            },
            "type": "scatter"
           }
          ],
          "scatter3d": [
           {
            "line": {
             "colorbar": {
              "outlinewidth": 0,
              "ticks": ""
             }
            },
            "marker": {
             "colorbar": {
              "outlinewidth": 0,
              "ticks": ""
             }
            },
            "type": "scatter3d"
           }
          ],
          "scattercarpet": [
           {
            "marker": {
             "colorbar": {
              "outlinewidth": 0,
              "ticks": ""
             }
            },
            "type": "scattercarpet"
           }
          ],
          "scattergeo": [
           {
            "marker": {
             "colorbar": {
              "outlinewidth": 0,
              "ticks": ""
             }
            },
            "type": "scattergeo"
           }
          ],
          "scattergl": [
           {
            "marker": {
             "colorbar": {
              "outlinewidth": 0,
              "ticks": ""
             }
            },
            "type": "scattergl"
           }
          ],
          "scattermap": [
           {
            "marker": {
             "colorbar": {
              "outlinewidth": 0,
              "ticks": ""
             }
            },
            "type": "scattermap"
           }
          ],
          "scattermapbox": [
           {
            "marker": {
             "colorbar": {
              "outlinewidth": 0,
              "ticks": ""
             }
            },
            "type": "scattermapbox"
           }
          ],
          "scatterpolar": [
           {
            "marker": {
             "colorbar": {
              "outlinewidth": 0,
              "ticks": ""
             }
            },
            "type": "scatterpolar"
           }
          ],
          "scatterpolargl": [
           {
            "marker": {
             "colorbar": {
              "outlinewidth": 0,
              "ticks": ""
             }
            },
            "type": "scatterpolargl"
           }
          ],
          "scatterternary": [
           {
            "marker": {
             "colorbar": {
              "outlinewidth": 0,
              "ticks": ""
             }
            },
            "type": "scatterternary"
           }
          ],
          "surface": [
           {
            "colorbar": {
             "outlinewidth": 0,
             "ticks": ""
            },
            "colorscale": [
             [
              0,
              "#0d0887"
             ],
             [
              0.1111111111111111,
              "#46039f"
             ],
             [
              0.2222222222222222,
              "#7201a8"
             ],
             [
              0.3333333333333333,
              "#9c179e"
             ],
             [
              0.4444444444444444,
              "#bd3786"
             ],
             [
              0.5555555555555556,
              "#d8576b"
             ],
             [
              0.6666666666666666,
              "#ed7953"
             ],
             [
              0.7777777777777778,
              "#fb9f3a"
             ],
             [
              0.8888888888888888,
              "#fdca26"
             ],
             [
              1,
              "#f0f921"
             ]
            ],
            "type": "surface"
           }
          ],
          "table": [
           {
            "cells": {
             "fill": {
              "color": "#EBF0F8"
             },
             "line": {
              "color": "white"
             }
            },
            "header": {
             "fill": {
              "color": "#C8D4E3"
             },
             "line": {
              "color": "white"
             }
            },
            "type": "table"
           }
          ]
         },
         "layout": {
          "annotationdefaults": {
           "arrowcolor": "#2a3f5f",
           "arrowhead": 0,
           "arrowwidth": 1
          },
          "autotypenumbers": "strict",
          "coloraxis": {
           "colorbar": {
            "outlinewidth": 0,
            "ticks": ""
           }
          },
          "colorscale": {
           "diverging": [
            [
             0,
             "#8e0152"
            ],
            [
             0.1,
             "#c51b7d"
            ],
            [
             0.2,
             "#de77ae"
            ],
            [
             0.3,
             "#f1b6da"
            ],
            [
             0.4,
             "#fde0ef"
            ],
            [
             0.5,
             "#f7f7f7"
            ],
            [
             0.6,
             "#e6f5d0"
            ],
            [
             0.7,
             "#b8e186"
            ],
            [
             0.8,
             "#7fbc41"
            ],
            [
             0.9,
             "#4d9221"
            ],
            [
             1,
             "#276419"
            ]
           ],
           "sequential": [
            [
             0,
             "#0d0887"
            ],
            [
             0.1111111111111111,
             "#46039f"
            ],
            [
             0.2222222222222222,
             "#7201a8"
            ],
            [
             0.3333333333333333,
             "#9c179e"
            ],
            [
             0.4444444444444444,
             "#bd3786"
            ],
            [
             0.5555555555555556,
             "#d8576b"
            ],
            [
             0.6666666666666666,
             "#ed7953"
            ],
            [
             0.7777777777777778,
             "#fb9f3a"
            ],
            [
             0.8888888888888888,
             "#fdca26"
            ],
            [
             1,
             "#f0f921"
            ]
           ],
           "sequentialminus": [
            [
             0,
             "#0d0887"
            ],
            [
             0.1111111111111111,
             "#46039f"
            ],
            [
             0.2222222222222222,
             "#7201a8"
            ],
            [
             0.3333333333333333,
             "#9c179e"
            ],
            [
             0.4444444444444444,
             "#bd3786"
            ],
            [
             0.5555555555555556,
             "#d8576b"
            ],
            [
             0.6666666666666666,
             "#ed7953"
            ],
            [
             0.7777777777777778,
             "#fb9f3a"
            ],
            [
             0.8888888888888888,
             "#fdca26"
            ],
            [
             1,
             "#f0f921"
            ]
           ]
          },
          "colorway": [
           "#636efa",
           "#EF553B",
           "#00cc96",
           "#ab63fa",
           "#FFA15A",
           "#19d3f3",
           "#FF6692",
           "#B6E880",
           "#FF97FF",
           "#FECB52"
          ],
          "font": {
           "color": "#2a3f5f"
          },
          "geo": {
           "bgcolor": "white",
           "lakecolor": "white",
           "landcolor": "#E5ECF6",
           "showlakes": true,
           "showland": true,
           "subunitcolor": "white"
          },
          "hoverlabel": {
           "align": "left"
          },
          "hovermode": "closest",
          "mapbox": {
           "style": "light"
          },
          "paper_bgcolor": "white",
          "plot_bgcolor": "#E5ECF6",
          "polar": {
           "angularaxis": {
            "gridcolor": "white",
            "linecolor": "white",
            "ticks": ""
           },
           "bgcolor": "#E5ECF6",
           "radialaxis": {
            "gridcolor": "white",
            "linecolor": "white",
            "ticks": ""
           }
          },
          "scene": {
           "xaxis": {
            "backgroundcolor": "#E5ECF6",
            "gridcolor": "white",
            "gridwidth": 2,
            "linecolor": "white",
            "showbackground": true,
            "ticks": "",
            "zerolinecolor": "white"
           },
           "yaxis": {
            "backgroundcolor": "#E5ECF6",
            "gridcolor": "white",
            "gridwidth": 2,
            "linecolor": "white",
            "showbackground": true,
            "ticks": "",
            "zerolinecolor": "white"
           },
           "zaxis": {
            "backgroundcolor": "#E5ECF6",
            "gridcolor": "white",
            "gridwidth": 2,
            "linecolor": "white",
            "showbackground": true,
            "ticks": "",
            "zerolinecolor": "white"
           }
          },
          "shapedefaults": {
           "line": {
            "color": "#2a3f5f"
           }
          },
          "ternary": {
           "aaxis": {
            "gridcolor": "white",
            "linecolor": "white",
            "ticks": ""
           },
           "baxis": {
            "gridcolor": "white",
            "linecolor": "white",
            "ticks": ""
           },
           "bgcolor": "#E5ECF6",
           "caxis": {
            "gridcolor": "white",
            "linecolor": "white",
            "ticks": ""
           }
          },
          "title": {
           "x": 0.05
          },
          "xaxis": {
           "automargin": true,
           "gridcolor": "white",
           "linecolor": "white",
           "ticks": "",
           "title": {
            "standoff": 15
           },
           "zerolinecolor": "white",
           "zerolinewidth": 2
          },
          "yaxis": {
           "automargin": true,
           "gridcolor": "white",
           "linecolor": "white",
           "ticks": "",
           "title": {
            "standoff": 15
           },
           "zerolinecolor": "white",
           "zerolinewidth": 2
          }
         }
        },
        "title": {
         "text": "Cluster Color Histograms (Rainbow Order)"
        },
        "width": 800,
        "xaxis": {
         "anchor": "y",
         "domain": [
          0,
          1
         ]
        },
        "xaxis2": {
         "anchor": "y2",
         "domain": [
          0,
          1
         ]
        },
        "yaxis": {
         "anchor": "x",
         "domain": [
          0.625,
          1
         ],
         "visible": false
        },
        "yaxis2": {
         "anchor": "x2",
         "domain": [
          0,
          0.375
         ],
         "visible": false
        }
       }
      }
     },
     "metadata": {},
     "output_type": "display_data"
    }
   ],
   "source": [
    "sorted_rgb_clusters = sort_by_hue(clusters)\n",
    "sorted_hsv_clusters = sort_by_hue(hsv_clusters)\n",
    "\n",
    "sorted_cluster_colors = [f'rgb({int(r)},{int(g)},{int(b)})' for r, g, b in sorted_rgb_clusters]\n",
    "sorted_hsv_colors = [f'rgb({int(r)},{int(g)},{int(b)})' for r, g, b in sorted_hsv_clusters]\n",
    "\n",
    "# Add hover text with RGB values\n",
    "rgb_hovertext = [f'RGB: ({int(r)}, {int(g)}, {int(b)})' for r, g, b in sorted_rgb_clusters]\n",
    "hsv_hovertext = [f'RGB: ({int(r)}, {int(g)}, {int(b)})' for r, g, b in sorted_hsv_clusters]\n",
    "\n",
    "fig = make_subplots(rows=2, cols=1, subplot_titles=(\"RGB Clusters (Rainbow Order)\", \"HSV Clusters (Rainbow Order)\"))\n",
    "\n",
    "fig.add_trace(\n",
    "    go.Bar(x=list(range(len(sorted_rgb_clusters))), y=[1]*len(sorted_rgb_clusters), marker_color=sorted_cluster_colors, showlegend=False, hovertext=rgb_hovertext, hoverinfo=\"text\"),\n",
    "    row=1, col=1\n",
    ")\n",
    "fig.add_trace(\n",
    "    go.Bar(x=list(range(len(sorted_hsv_clusters))), y=[1]*len(sorted_hsv_clusters), marker_color=sorted_hsv_colors, showlegend=False, hovertext=hsv_hovertext, hoverinfo=\"text\"),\n",
    "    row=2, col=1\n",
    ")\n",
    "\n",
    "fig.update_layout(height=400, width=800, title_text=\"Cluster Color Histograms (Rainbow Order)\")\n",
    "fig.update_yaxes(visible=False)\n",
    "fig.show()"
   ]
  }
 ],
 "metadata": {
  "kernelspec": {
   "display_name": "venv",
   "language": "python",
   "name": "python3"
  },
  "language_info": {
   "codemirror_mode": {
    "name": "ipython",
    "version": 3
   },
   "file_extension": ".py",
   "mimetype": "text/x-python",
   "name": "python",
   "nbconvert_exporter": "python",
   "pygments_lexer": "ipython3",
   "version": "3.11.9"
  }
 },
 "nbformat": 4,
 "nbformat_minor": 5
}
