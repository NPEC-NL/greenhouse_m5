{
 "cells": [
  {
   "cell_type": "markdown",
   "id": "9d4f30ad",
   "metadata": {},
   "source": [
    " \"# Green Leaf Segmentation and NDVI Extraction\\n\",\n",
    "    \"This notebook segments green leaves from hyperspectral ENVI images, extracts average spectra, saves masks and NDVI images, and exports results to Excel.\""
   ]
  },
  {
   "cell_type": "code",
   "execution_count": null,
   "id": "7f6a734a",
   "metadata": {},
   "outputs": [],
   "source": [
    "import os\n",
    "import numpy as np\n",
    "import spectral\n",
    "import pandas as pd\n",
    "import matplotlib.pyplot as plt\n",
    "import scipy.ndimage"
   ]
  },
  {
   "cell_type": "markdown",
   "id": "af0c7716",
   "metadata": {},
   "source": [
    "User settings"
   ]
  },
  {
   "cell_type": "code",
   "execution_count": null,
   "id": "5e2822a0",
   "metadata": {},
   "outputs": [],
   "source": [
    "folder = r\"F:/NPEC/20250717/1/SNAPSCAN/162426471044/Data\""
   ]
  },
  {
   "cell_type": "markdown",
   "id": "da3d228a",
   "metadata": {},
   "source": [
    "Segmentation and NDVI functions"
   ]
  },
  {
   "cell_type": "code",
   "execution_count": null,
   "id": "a722492b",
   "metadata": {},
   "outputs": [],
   "source": [
    "# Define green segmentation function (simple NDVI or band thresholding)\n",
    "def segment_green_leaves(data, camera_type):\n",
    "    # plastic mask: use band 97 to seperate plant from plastic\n",
    "    plastic  = np.sum(data[:, :, 97].astype(np.float32), axis=2)\n",
    "    plastic_mask = plastic > 0.2\n",
    "\n",
    "    # NDVI mask: Red = sum of bands 58-62, NIR = sum of bands 103-107\n",
    "    red = np.sum(data[:, :, 58:63].astype(np.float32), axis=2)\n",
    "    nir = np.sum(data[:, :, 103:108].astype(np.float32), axis=2)\n",
    "    ndvi = (nir - red) / (nir + red + 1e-8)\n",
    "    ndvi_mask = ndvi > 0.4\n",
    "\n",
    "    # Combine both masks (logical AND)\n",
    "    mask = np.logical_and(plastic_mask, ndvi_mask)\n",
    "\n",
    "\n",
    "    # Remove small objects (connected areas < 100 pixels)\n",
    "    labeled_mask, num_features = scipy.ndimage.label(mask)\n",
    "    sizes = np.bincount(labeled_mask.ravel())\n",
    "    mask_clean = mask.copy()\n",
    "    # sizes[0] is background, skip it\n",
    "    for i, size in enumerate(sizes):\n",
    "        if i == 0:\n",
    "            continue\n",
    "        if size < 100:\n",
    "            mask_clean[labeled_mask == i] = 0\n",
    "\n",
    "    return mask_clean\n",
    "\n",
    "def NDVI_image(data):\n",
    "    # NDVI mask: Red = sum of bands 58-62, NIR = sum of bands 103-107\n",
    "    red = np.sum(data[:, :, 58:63].astype(np.float32), axis=2)\n",
    "    nir = np.sum(data[:, :, 103:108].astype(np.float32), axis=2)\n",
    "    ndvi = (nir - red) / (nir + red + 1e-8)\n",
    "    # Restrict NDVI values to [0, 1]\n",
    "    ndvi_restricted = np.clip(ndvi, 0, 1)\n",
    "    return ndvi_restricted\n"
   ]
  },
  {
   "cell_type": "markdown",
   "id": "b1a9331f",
   "metadata": {},
   "source": [
    "Main procesing loop. Load in each image named XXX_refl.hdr/raw and produce an NDVI, mask, mean and average spectra "
   ]
  },
  {
   "cell_type": "code",
   "execution_count": null,
   "id": "c6892314",
   "metadata": {},
   "outputs": [],
   "source": [
    "results = []\n",
    "\n",
    "for file in os.listdir(folder):\n",
    "    if file.endswith('refl.hdr'):\n",
    "        \n",
    "        # Load hyperspectral image\n",
    "        base = os.path.splitext(file)[0]\n",
    "        hdr_path = os.path.join(folder, file)\n",
    "        raw_path = os.path.join(folder, base + '.raw')\n",
    "        if not os.path.exists(raw_path):\n",
    "            continue\n",
    "\n",
    "        img = spectral.open_image(hdr_path)\n",
    "        data = img.load()\n",
    "\n",
    "        # Crop out the first 76 rows because there is no White reference for that part of the image.\n",
    "        data = data[76:, :, :]\n",
    "\n",
    "        mask = segment_green_leaves(data, camera_type)\n",
    "        if np.sum(mask) == 0:\n",
    "            continue  # Skip if no green pixels found\n",
    "\n",
    "        # Ensure mask is 2D and matches the first two dimensions of data\n",
    "        mask_2d = mask if mask.ndim == 2 else np.squeeze(mask)\n",
    "\n",
    "        # Crop image to just the area that has masked pixels\n",
    "        rows, cols = np.where(mask_2d)\n",
    "        if len(rows) == 0 or len(cols) == 0:\n",
    "            continue  # No green pixels found after mask\n",
    "        min_row, max_row = rows.min(), rows.max()\n",
    "        min_col, max_col = cols.min(), cols.max()\n",
    "        cropped_data = data[min_row:max_row+1, min_col:max_col+1, :]\n",
    "        cropped_mask = mask_2d[min_row:max_row+1, min_col:max_col+1]\n",
    "\n",
    "        green_pixels = cropped_data[cropped_mask, :]  # Select all bands for masked pixels\n",
    "        avg_spectra = np.mean(green_pixels, axis=0)\n",
    "        std_spectra = np.std(green_pixels, axis=0)\n",
    "        \n",
    "        # Save mask for inspection\n",
    "        mask_save_path = os.path.join(folder, f\"{base}_mask.png\")\n",
    "        plt.imsave(mask_save_path, np.flipud(np.squeeze(cropped_mask.astype(np.uint8) * 255)), cmap='gray')\n",
    "\n",
    "\n",
    "        # Save NDVI image for inspection\n",
    "        ndvi_img = NDVI_image(cropped_data)\n",
    "        ndvi_save_path = os.path.join(folder, f\"{base}_ndvi.png\")\n",
    "        plt.imsave(ndvi_save_path, np.flipud(ndvi_img), cmap='cividis')\n",
    "\n",
    "        results.append({\n",
    "            \"filename\": file,\n",
    "            \"avg_spectra\": avg_spectra,\n",
    "            \"std_spectra\": std_spectra\n",
    "        })"
   ]
  },
  {
   "cell_type": "markdown",
   "id": "2afd5c20",
   "metadata": {},
   "source": [
    "Save Results to Excel!"
   ]
  },
  {
   "cell_type": "code",
   "execution_count": null,
   "id": "9bdda781",
   "metadata": {},
   "outputs": [],
   "source": [
    "# Prepare DataFrame for Excel\n",
    "if results:\n",
    "    wavelengths = img.metadata.get('wavelength', None)\n",
    "    if isinstance(wavelengths, str):\n",
    "        wavelengths = [w.strip() for w in wavelengths.strip('{}').split(',')]\n",
    "    df = pd.DataFrame({\n",
    "        \"filename\": [r[\"filename\"] for r in results],\n",
    "        **{f\"avg_{w}\": [r[\"avg_spectra\"][i] for r in results] for i, w in enumerate(wavelengths)},\n",
    "        **{f\"std_{w}\": [r[\"std_spectra\"][i] for r in results] for i, w in enumerate(wavelengths)}\n",
    "    })\n",
    "    out_path = os.path.join(folder, f\"{camera_type}_leaf_spectra.xlsx\")\n",
    "    df.to_excel(out_path, index=False)\n",
    "    print(f\"Saved results to {out_path}\")\n",
    "else:\n",
    "    print(\"No green leaves found in any image.\")"
   ]
  }
 ],
 "metadata": {
  "language_info": {
   "name": "python"
  }
 },
 "nbformat": 4,
 "nbformat_minor": 5
}
